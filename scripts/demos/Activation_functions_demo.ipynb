{
 "cells": [
  {
   "cell_type": "markdown",
   "metadata": {},
   "source": [
    "# Some activation functions illustrated"
   ]
  },
  {
   "cell_type": "code",
   "execution_count": 1,
   "metadata": {},
   "outputs": [],
   "source": [
    "import numpy as np\n",
    "import matplotlib.pyplot as plt\n",
    "from ipywidgets import interact\n",
    "import ipywidgets as widgets"
   ]
  },
  {
   "cell_type": "code",
   "execution_count": 2,
   "metadata": {},
   "outputs": [],
   "source": [
    "def binary_step(x):\n",
    "    return np.where(x < 0, 0, 1)\n",
    "\n",
    "def linear_fct(x, a=1):\n",
    "    return a * x\n",
    "\n",
    "def sigmoid(x):\n",
    "    return 1 / (1 + np.exp(-x))\n",
    "\n",
    "def tanh(x):\n",
    "    return (2 / (1 + np.exp(-2*x))) -1\n",
    "\n",
    "def relu(x):\n",
    "    return np.where(x < 0, 0, x)\n",
    "\n",
    "def leaky_relu(x):\n",
    "    return np.where(x < 0, 0.01 * x, x)\n",
    "\n",
    "def param_relu(x, a=0.01):\n",
    "    return np.where(x < 0, a * x, x)\n",
    "\n",
    "def exp_linu(x, a=1):\n",
    "    return np.where(x < 0, a * (np.exp(x)-1), x)\n",
    "\n",
    "def swish(x):\n",
    "    return x * sigmoid(x)\n",
    "\n",
    "def softmax(x):\n",
    "    z = np.exp(x)\n",
    "    return z / z.sum()"
   ]
  },
  {
   "cell_type": "code",
   "execution_count": 3,
   "metadata": {},
   "outputs": [
    {
     "data": {
      "application/vnd.jupyter.widget-view+json": {
       "model_id": "c8ded4b4d2d544939cce9029aee4a8c6",
       "version_major": 2,
       "version_minor": 0
      },
      "text/plain": [
       "interactive(children=(ToggleButtons(button_style='success', description='actfunc', options=('binary_step', 'li…"
      ]
     },
     "metadata": {},
     "output_type": "display_data"
    }
   ],
   "source": [
    "FUNCS={'binary_step': binary_step,\n",
    "       'linear_fct': linear_fct, \n",
    "       'sigmoid': sigmoid,\n",
    "       'tanh': tanh,\n",
    "       'relu': relu,\n",
    "       'leaky_relu': leaky_relu,\n",
    "       'param_relu': param_relu,\n",
    "       'exp_linu': exp_linu,\n",
    "       'swish': swish,\n",
    "       'softmax': softmax,\n",
    "      }\n",
    "\n",
    "@interact(function=widgets.ToggleButtons(options=FUNCS.keys(),\n",
    "                                         description='actfunc',\n",
    "                                         button_style='success'))\n",
    "def plot_function(function):\n",
    "    \"\"\"\n",
    "    Plot an activation function:\n",
    "    Args:\n",
    "        function (function): one of FUNCS.keys()\n",
    "    Returns:\n",
    "        None\n",
    "    \"\"\"\n",
    "    xs = np.linspace(-10, 10, 100)\n",
    "    fig, ax = plt.subplots(figsize=(15, 6), ncols=1) \n",
    "    ax.plot(xs, FUNCS[function](xs))\n",
    "    ax.grid()\n",
    "    ax.set_title(f'{function} activation function\\n')    \n",
    "    ax.axhline(0, -10, 10, c='r', alpha=0.3)\n",
    "    ax.axvline(0, -1, 1, c='r', alpha=0.3)\n",
    "    \n",
    "    return\n"
   ]
  },
  {
   "cell_type": "code",
   "execution_count": null,
   "metadata": {},
   "outputs": [],
   "source": []
  }
 ],
 "metadata": {
  "kernelspec": {
   "display_name": "geocomp",
   "language": "python",
   "name": "geocomp"
  },
  "language_info": {
   "codemirror_mode": {
    "name": "ipython",
    "version": 3
   },
   "file_extension": ".py",
   "mimetype": "text/x-python",
   "name": "python",
   "nbconvert_exporter": "python",
   "pygments_lexer": "ipython3",
   "version": "3.8.5"
  }
 },
 "nbformat": 4,
 "nbformat_minor": 4
}
