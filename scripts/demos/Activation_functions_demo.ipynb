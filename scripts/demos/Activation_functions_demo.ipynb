{
 "cells": [
  {
   "cell_type": "markdown",
   "metadata": {},
   "source": [
    "# Some activation functions illustrated\n",
    "\n",
    "credit to DISHASHREE GUPTA for the list of functions:\n",
    "\n",
    "[Source](https://www.analyticsvidhya.com/blog/2020/01/fundamentals-deep-learning-activation-functions-when-to-use-them/)"
   ]
  },
  {
   "cell_type": "code",
   "execution_count": 1,
   "metadata": {},
   "outputs": [],
   "source": [
    "import numpy as np\n",
    "import matplotlib.pyplot as plt\n",
    "from ipywidgets import interact\n",
    "import ipywidgets as widgets"
   ]
  },
  {
   "cell_type": "code",
   "execution_count": 2,
   "metadata": {},
   "outputs": [],
   "source": [
    "def binary_step(x):\n",
    "    return np.where(x < 0, 0, 1)\n",
    "\n",
    "def linear_fct(x, a=1):\n",
    "    return a * x\n",
    "\n",
    "def sigmoid(x):\n",
    "    return 1 / (1 + np.exp(-x))\n",
    "\n",
    "def tanh(x):\n",
    "    return (2 / (1 + np.exp(-2*x))) -1\n",
    "\n",
    "def relu(x):\n",
    "    return np.where(x < 0, 0, x)\n",
    "\n",
    "def leaky_relu(x):\n",
    "    return np.where(x < 0, 0.01 * x, x)\n",
    "\n",
    "def param_relu(x, a=0.01):\n",
    "    return np.where(x < 0, a * x, x)\n",
    "\n",
    "def exp_linu(x, a=1):\n",
    "    return np.where(x < 0, a * (np.exp(x)-1), x)\n",
    "\n",
    "def swish(x):\n",
    "    return x * sigmoid(x)\n",
    "\n",
    "def softmax(x):\n",
    "    z = np.exp(x)\n",
    "    return z / z.sum()"
   ]
  },
  {
   "cell_type": "code",
   "execution_count": 3,
   "metadata": {},
   "outputs": [
    {
     "data": {
      "application/vnd.jupyter.widget-view+json": {
       "model_id": "8d292206121f4b2da77ca207963024dc",
       "version_major": 2,
       "version_minor": 0
      },
      "text/plain": [
       "interactive(children=(ToggleButtons(button_style='success', description='actfunc', options=('binary_step', 'li…"
      ]
     },
     "metadata": {},
     "output_type": "display_data"
    }
   ],
   "source": [
    "FUNCS={'binary_step': binary_step,\n",
    "       'linear_fct': linear_fct, \n",
    "       'sigmoid': sigmoid,\n",
    "       'tanh': tanh,\n",
    "       'relu': relu,\n",
    "       'leaky_relu': leaky_relu,\n",
    "       'param_relu': param_relu,\n",
    "       'exp_linu': exp_linu,\n",
    "       'swish': swish,\n",
    "       'softmax': softmax,\n",
    "      }\n",
    "\n",
    "@interact(function=widgets.ToggleButtons(options=FUNCS.keys(),\n",
    "                                         description='actfunc',\n",
    "                                         button_style='success'))\n",
    "def plot_function(function):\n",
    "    \"\"\"\n",
    "    Plot an activation function:\n",
    "    Args:\n",
    "        function (function): one of FUNCS.keys()\n",
    "    Returns:\n",
    "        None\n",
    "    \"\"\"\n",
    "    xs = np.linspace(-10, 10, 100)\n",
    "    fig, ax = plt.subplots(figsize=(15, 6), ncols=1) \n",
    "    ax.plot(xs, FUNCS[function](xs))\n",
    "    ax.grid()\n",
    "    ax.set_title(f'{function} activation function\\n')    \n",
    "    ax.axhline(0, -10, 10, c='r', alpha=0.3)\n",
    "    ax.axvline(0, -1, 1, c='r', alpha=0.3)\n",
    "    \n",
    "    return\n"
   ]
  },
  {
   "cell_type": "code",
   "execution_count": null,
   "metadata": {},
   "outputs": [],
   "source": []
  }
 ],
 "metadata": {
  "kernelspec": {
   "display_name": "geocomp",
   "language": "python",
   "name": "geocomp"
  },
  "language_info": {
   "codemirror_mode": {
    "name": "ipython",
    "version": 3
   },
   "file_extension": ".py",
   "mimetype": "text/x-python",
   "name": "python",
   "nbconvert_exporter": "python",
   "pygments_lexer": "ipython3",
   "version": "3.8.5"
  },
  "widgets": {
   "application/vnd.jupyter.widget-state+json": {
    "state": {
     "3067aedc2e614b1daa308aff19527b22": {
      "model_module": "@jupyter-widgets/controls",
      "model_module_version": "1.5.0",
      "model_name": "ToggleButtonsStyleModel",
      "state": {
       "button_width": "",
       "description_width": ""
      }
     },
     "306ce52816024756ba1d16d8173c4209": {
      "model_module": "@jupyter-widgets/output",
      "model_module_version": "1.0.0",
      "model_name": "OutputModel",
      "state": {
       "layout": "IPY_MODEL_89c50031355b4acca83461c64e2abf33",
       "outputs": [
        {
         "data": {
          "image/png": "iVBORw0KGgoAAAANSUhEUgAAA2oAAAGECAYAAABH+tPQAAAAOXRFWHRTb2Z0d2FyZQBNYXRwbG90bGliIHZlcnNpb24zLjMuMiwgaHR0cHM6Ly9tYXRwbG90bGliLm9yZy8vihELAAAACXBIWXMAAAsTAAALEwEAmpwYAAApIklEQVR4nO3dfZRld1kn+u/TVd0BSSBAIEISCHIzXoILFJqgF186F0YIowTvADeRAWXkBryEO7MGrzDiKMh4dXxbygBmcpFBHCCwRmACRgGv0+IY0ZAeXhIg2ISXNGF4J9Chzalzzu/+cU51KkVVd0Gqe+/T+/NZq1fXOXuffZ7z1O566unfb/92tdYCAABAf+zoOgAAAADuSKMGAADQMxo1AACAntGoAQAA9IxGDQAAoGc0agAAAD2jUQPoiar6ZFU9bpNtP1RVNxzvmE50VXV9Ve05Bsd9QFUdrKqlY3Dsx1TV38+P/+TtPv4R3tc5CHAcadQAFkBr7a9aa9/ddRxbUVV7qupA13GsV1Wvrap/u/a51tpDW2t7t+HYd2iyW2ufbq2d3Fqb3Nljb+BXkrxifvy3HYPjJ0mqqlXV/7T6eJHOQYATgUYNYMBqRi1YLA9Mcn3XQQBwbCnOAP3yqKr6cFV9par+Y1XdJfnmUar5CM7PVdUHq+qWqnrTmn3vWVXvqKovzI/zjqo6c81r91bVr1bVXyf5RpIXVNW1a4OoqhdU1duOFGhVPXEe69er6jPzeO6W5E+T3H8+Ne9gVd2/qnZU1Yuq6uNV9aWqenNV3Wt+nLPnozeXVNXNVfXZqnrBEd73n1TVf6+qr1XVTVX1knXbf7Cqrq6qr863/3RVXZLk6Ul+fh7T29fk8XHzGA+txjTf9n1V9cWq2llVD66qv5jH/sWqen1VnTrf74+SPCDJ2+fH/vk1n2l5vs/9q+rKqvpyVe2vqv9jzfu8ZJ6P181zeX1V7d7ks388yXetea+T1o/mzY/3n9bl9qeq6tPz2F+8Zt+lqvqF+ffl61V1bVWdVVXvme/ygfn7/O8bnIMPmZ9LX53H/KQ1215bVa+sqj+ZH/dvq+rBm31PAfhmGjWAfnl6kscneXCSf5TkF4+w79OSPCHJg5I8LMlPz5/fkeQ/Zjby8oAkh5K8Yt1rn5HkkiSnJHl5kgdV1UPWbP9nSf7oKLH+QZLntNZOSfI9Sf6itXZrkguS3Dyfmndya+3mJP9Xkicn+ZEk90/ylSSvXHe885Ock+RHk7yoNrleL8mtSZ6Z5NQk/yTJz9b8Wq2qekBmjeK/T3KfJN+b5P2ttcuTvD7Jb8xj+vG1B5zH+DdJ/umap38yyX9ura0kqSS/No/9IUnOSvKS+WufkeTTSX58fuzf2CDmNyY5MH/9U5L8P1X12DXbn5TkivlnujLf/P1ajfPB697rtk1ytN4PJvnuJI9N8ktrvtf/KsnFSZ6Y5O5J/nmSb7TWfni+/eHz93nT2oNV1c4kb0/yriT3TfL8JK+vqrVTIy9O8tIk90yyP8mvbjFWAKJRA+ibV7TWbmqtfTmzX2wvPsK+L2+t3Tzf9+2ZNSVprX2ptfbHrbVvtNa+Pj/Oj6x77Wtba9e31sbzX/bflFlzlqp6aJKzk7zjKLGuJDm3qu7eWvtKa23fEfZ9TpIXt9YOzN/vJUmesjriNPfS1tqtrbUPZdZobvjZW2t7W2sfaq1NW2sfzKwJWv18T0/y5621N7bWVua5eP9RPseqN6y+Z1VVkovmz6W1tr+19u7W2m2ttS8k+Z18c043VFVnZdYovbC19g/zeF6dWbO86r+11q6aX9P2R0kevsWYt+qlrbVDrbUPJPnAmuM/O8kvttZuaDMfaK19aQvH+/4kJyf59dbaqLX2F5mdL2u/Z29prf1da22cWZP8vdv2aQAGQKMG0C83rfn6U5mNwGzmf6z5+huZ/eKcqvqOqvoPVfWpqvpakvckObXuuALh2vdJkj9M8pPzBuUZSd68hdGaf5rZSMynquovq+oHjrDvA5O8dT5N7qtJPpJkkuT0TWLa9LNX1aOr6r/WbGrnLUmem+S0+eazknz8KHFv5j8n+YGqun+SH07SkvzV/D3vW1VX1GyK59eS/Kc173k090/y5XnTvOpTSc5Y83j99/Iu65rYO2vDcyXffr7un+Sm1tp0zXNH+0wnB4At06gB9MtZa75+QJKbv41jvCCzaW6Pbq3dPbOmI5lN31vV1r6gtfbeJKMkP5TZlL+jTXtMa+2a1tqFmU19e1uSN2907LmbklzQWjt1zZ+7tNY+s2afrX72N2Q2PfCs1to9kly25rPdlNm00Q1DPsrn+WpmU/mellkO3thaW33Nr81f/7B5Tv9ZjpDPdW5Ocq+qOmXNcw9I8plN9v9W3ZrkO9Y8/s5v4bVHyteR3JzkrLrjQjTb+ZkABk+jBtAvz6uqM+eLWvxCZlMSv1WnZHZd2lfnx/nlLb7udZldGzVurf23I+1YVbuq6ulVdY/5NVxfy2yELEk+l+TeVXWPNS+5LMmvVtUD56+/T1VduO6w/2Y+GvjQJM/K5p/9lMxGqP6hqs7LrKla9fokj6uqp1XVclXdu6q+d01c33Wkz5VZE/jMzEYL37DuPQ9mltMzkvzf61636bFbazcluTrJr1XVXarqYUl+Zh7rdnh/kovmi57szuwauK16dZKXVdU5NfOwqrr3fNuR8vW3mTWIPz9/3z1Jfjyz6+wA2AYaNYB+eUNmozo3zv/82yPvvqHfTXLXJF9M8t4kf7bF1/1RZouCHHU0be4ZST45nwr43MyvcWutfTSz68ZunE91vH+S38tsFOxdVfX1eVyPXne8v8xs0Yn/L8lvtdbetcn7/p9JfmV+nF/K7SN5aa19OrPpmC9I8uXMmpjV67H+ILNr6r5am69oeWVmC5p8bn4916qXJnlEkluS/EmSt6x73a8l+cX5sX9ug+NenNl1fzcneWuSX26tvXuTGL5V/yazUbGvzON8w5F3v4PfySx/78qs2f6DzM6dZHYd4R/OP9PT1r6otTbKbAGUCzI7z16V5Jnz7z0A26Bun9UBwJBV1V2TfD7JI1prf38c3/fsJJ9IsnO+8AQADJ4RNQBW/WySa45nkwYAbGw7V5QCYEFV1SczWxzjyeuevz6zFRvXe05rbbuusQIA1jH1EQAAoGdMfQQAAOgZjRoAAEDPaNQAAAB6RqMGAADQMxo1AACAntGoAQAA9IxGDQAAoGc0agAAAD2jUQMAAOgZjRoAAEDPaNQAAAB6RqMGAADQMxo1AACAntGoAQAA9IxGDQAAoGc0agAAAD2jUQMAAOiZ5a7e+LTTTmtnn312V2+/qVtvvTV3u9vdug5jkOS+O3LfLfnvyMGDOXToUO56n/t0HckgOe+7I/fdkfvu9DX311577RdbaxsWos4atbPPPjvve9/7unr7Te3duzd79uzpOoxBkvvuyH235L8jV1+dffv25RGXXtp1JIPkvO+O3HdH7rvT19xX1ac222bqIwAAQM9o1AAAAHpGowYAANAzGjUAAICe0agBAAD0jEYNAACgZzRqAAAAPaNRAwAA6BmNGgAAQM8ctVGrqtdU1eer6rpNtldVvbyq9lfVB6vqEdsfJgAAwHBsZUTttUmecITtFyQ5Z/7nkiS/f+fDAgAAGK7lo+3QWntPVZ19hF0uTPK61lpL8t6qOrWq7tda++x2BQkAx1JrLfs+/ZV87R/GXYcyGB/6wjjths93HcYgyX135L47H/nSJHu6DuJbdNRGbQvOSHLTmscH5s99U6NWVZdkNuqW008/PXv37t2Gt99eBw8e7GVcQyD33ZH7bsl/N+5+3XU5dOhQ9u7dm898fZoX//WhrkManmuv6TqC4ZL77sh9J07Z2XLuvfd2Hca3ZDsatdrgubbRjq21y5NcniS7d+9ue/bs2Ya331579+5NH+MaArnvjtx3S/47smtX9u3bl8fs2ZO/+8SXk7/+m7z0SQ/Nw868R9eRDcK+ffvyiEe4rL0Lct8due/OB/77voWrtdvRqB1Ictaax2cmuXkbjgsAx8XKZJokecj97p7ve8A9O45mGG65cUmuOyL33ZH77txy41LXIXzLtmN5/iuTPHO++uP3J7nF9WkALJLReNao7VzaaJIIABx/Rx1Rq6o3JtmT5LSqOpDkl5PsTJLW2mVJrkryxCT7k3wjybOOVbAAcCzcNm/Udi27vSgA/bCVVR8vPsr2luR52xYRABxnq1MfT9KoAdATKhIAg3f71EdlEYB+UJEAGLzRxNRHAPpFRQJg8FanPu4yogZAT6hIAAze4amPRtQA6AkVCYDBO7zqoxE1AHpCRQJg8Ex9BKBvVCQABm80nmZ5R2XHDje8BqAfNGoADN7KZGrFRwB6RVUCYPBG46l7qAHQK6oSAIM3MqIGQM+oSgAM3mjcLCQCQK+oSgAMnhE1APpGVQJg8EbjiRE1AHpFVQJg8FYmzYgaAL2iKgEweLNVH91DDYD+0KgBMHijsWvUAOgXVQmAwRtN3EcNgH5RlQAYvNF4mpOMqAHQI6oSAIO3Ynl+AHpGVQJg8Ex9BKBvVCUABm80nrqPGgC9oioBMHimPgLQN6oSAIN329jURwD6RVUCYPCs+ghA36hKAAyeqY8A9I2qBMCgjSfTTFtMfQSgV1QlAAZtNJkmiRE1AHpFVQJg0FbGLYkRNQD6RVUCYNBum0ySGFEDoF9UJQAGbWUyG1E7yYgaAD2iKgEwaKPx7Bq1ncvVcSQAcDuNGgCDttqo7Vpa6jgSALidRg2AQVux6iMAPaQqATBot61OfVwy9RGA/tCoATBoh6c+GlEDoEdUJQAGbXXq40kaNQB6RFUCYNAOr/poeX4AekRVAmDQRhYTAaCHVCUABm116qMRNQD6RFUCYNBuO3wfNSURgP5QlQAYNIuJANBHqhIAg2YxEQD6SFUCYNDcRw2APlKVABi0Fas+AtBDqhIAg7Y6ora8ozqOBABup1EDYNBum0yza3lHqjRqAPSHRg2AQVsZt5xkIREAekZlAmDQRpNJdro+DYCeUZkAGLTReOpm1wD0jsoEwKCtTFp2Lrs+DYB+2VKjVlVPqKobqmp/Vb1og+33qKq3V9UHqur6qnrW9ocKANvPiBoAfXTUylRVS0lemeSCJOcmubiqzl232/OSfLi19vAke5L8dlXt2uZYAWDbjSbT7Fpe6joMALiDrfwX4nlJ9rfWbmytjZJckeTCdfu0JKfUbG3jk5N8Ocl4WyMFgGNgNqJm6iMA/bKVRu2MJDeteXxg/txar0jykCQ3J/lQkn/RWptuS4QAcAyNxrP7qAFAn1Rr7cg7VD01yeNba8+eP35GkvNaa89fs89Tkjwmyb9K8uAk707y8Nba19Yd65IklyTJ6aef/sgrrrhiGz/K9jh48GBOPvnkrsMYJLnvjtx3S/67cffrrsuhQ4fyksn3ZOdS8vOPumvXIQ2K8747ct8due9OX3N//vnnX9ta273RtuUtvP5AkrPWPD4zs5GztZ6V5NfbrOvbX1WfSPI/J/m7tTu11i5PcnmS7N69u+3Zs2dLH+B42rt3b/oY1xDIfXfkvlvy35Fdu7Jv377cNafkXnfblT17zus6okFx3ndH7rsj991ZxNxvZa7HNUnOqaoHzRcIuSjJlev2+XSSxyZJVZ2e5LuT3LidgQLAsWDVRwD66Kgjaq21cVVdmuSdSZaSvKa1dn1VPXe+/bIkL0vy2qr6UJJK8sLW2hePYdwAsC1mqz5q1ADol61MfUxr7aokV6177rI1X9+c5Ee3NzQAOPaMqAHQRyoTAINm1UcA+khlAmDQVibT7DSiBkDPqEwADJoRNQD6SGUCYNBWJk2jBkDvqEwADFZrLSNTHwHoIZUJgMGazP8+yYgaAD2jMgEwWJPp7G/L8wPQNyoTAIO12qjtXKpuAwGAdTRqAAzWpM3+3rW81G0gALCORg2AwTo89dE1agD0jMoEwGCN5yNqpj4C0DcaNQAGazKddWpWfQSgb1QmAAZrdXl+91EDoG9UJgAGyzVqAPSVygTAYLmPGgB9pTIBMFjjNrtGbacRNQB6RmUCYLCMqAHQVyoTAIO1esNrqz4C0DcqEwCDNZ4vz2/VRwD6RmUCYLBWR9Ss+ghA36hMAAyWRg2AvlKZABis1cVETH0EoG9UJgAGa3V5fouJANA3KhMAgzU1ogZAT6lMAAzWuCVLOypLO6rrUADgDjRqAAzWZOpm1wD0k+oEwGBNWrJzyWgaAP2jUQNgsCbTZNfyUtdhAMA30agBMFiTZsVHAPpJdQJgsCatmfoIQC9p1AAYrPE02WVEDYAeUp0AGKxJ06gB0E+qEwCDNZk2N7sGoJdUJwAGa9LcRw2AflKdABgs16gB0FeqEwCDZUQNgL5SnQAYrElrRtQA6CXVCYDBmkxjMREAekl1AmCwxpbnB6CnVCcABmtiMREAekp1AmCwLCYCQF+pTgAMlhE1APpKdQJgsIyoAdBXqhMAgzSZtkybVR8B6CfVCYBBGk+mSUx9BKCfVCcABmll2pIkO5eq40gA4Jtp1AAYpJX5iNpJRtQA6CHVCYBBGk9mI2qmPgLQR6oTAIO0eo2axUQA6CPVCYBBWr1GzYgaAH2kOgEwSKvXqLmPGgB9tKXqVFVPqKobqmp/Vb1ok332VNX7q+r6qvrL7Q0TALbX4amPRtQA6KHlo+1QVUtJXpnkHyc5kOSaqrqytfbhNfucmuRVSZ7QWvt0Vd33GMULANtiZb6YyElG1ADooa1Up/OS7G+t3dhaGyW5IsmF6/b5ySRvaa19Oklaa5/f3jABYHuNp254DUB/VWvtyDtUPSWzkbJnzx8/I8mjW2uXrtnnd5PsTPLQJKck+b3W2us2ONYlSS5JktNPP/2RV1xxxTZ9jO1z8ODBnHzyyV2HMUhy3x2575b8d+Nzf/WBvOmGlfzYU78v33WPpa7DGRznfXfkvjty352+5v7888+/trW2e6NtR536mKQ2eG59d7ec5JFJHpvkrkn+pqre21r72B1e1NrlSS5Pkt27d7c9e/Zs4e2Pr71796aPcQ2B3HdH7rsl/934m5u+ltzwsfzAeY/KQ+53967DGRznfXfkvjty351FzP1WGrUDSc5a8/jMJDdvsM8XW2u3Jrm1qt6T5OFJPhYA6KHVa9TcRw2APtpKdbomyTlV9aCq2pXkoiRXrtvnvyT5oaparqrvSPLoJB/Z3lABYPusrvp4kmvUAOiho46otdbGVXVpkncmWUrymtba9VX13Pn2y1prH6mqP0vywSTTJK9urV13LAMHgDvDDa8B6LOtTH1Ma+2qJFete+6ydY9/M8lvbl9oAHDsHL6PmqmPAPSQ6gTAII2NqAHQY6oTAIM0ni8mssuIGgA9pDoBMEijw1MfN7oLDQB0S6MGwCCNJy1LlVRp1ADoH40aAIM0nk7j8jQA+kqJAmCQVuYjagDQRxo1AAZpPJnGOiIA9JUSBcAgjSdTI2oA9JZGDYBBGk2bETUAekuJAmCQxpNplncYUgOgnzRqAAzSeNqy1HUQALAJjRoAg7RiMREAekyJAmCQxpbnB6DHNGoADNJseX6dGgD9pFEDYJBGRtQA6DGNGgCDNJ5Os6wKAtBTShQAgzSetOxQBQHoKSUKgEFamUyzXOY+AtBPGjUABmk8dY0aAP2lUQNgkCzPD0CfadQAGKSVicVEAOgvJQqAwWmtZWXSsqQKAtBTShQAg7MyaUli6iMAvaVRA2BwVibTJMnyDp0aAP2kUQNgcEbjWaO21HEcALAZjRoAgzOaj6i5Rg2AvlKiABicwyNqZj4C0FMaNQAG5/YRNZ0aAP2kUQNgcA6PqKmCAPSUEgXA4Kyu+mjqIwB9pVEDYHBWR9SWVUEAekqJAmBwbl9MxJAaAP2kUQNgcEamPgLQcxo1AAbHYiIA9J0SBcDgrExakmTZ1EcAekqjBsDgjCaTJMkOVRCAnlKiABicw6s+GlADoKc0agAMzmg+9dE1agD0lRIFwOAYUQOg7zRqAAyOVR8B6DslCoDBWXEfNQB6TqMGwOCMxtPsqGSH5fkB6CmNGgCDM5pMs9NwGgA9plEDYHBG42mWXKAGQI+pUgAMzmgyzS4jagD0mEYNgMFZGU+zvEMJBKC/VCkABmc0mWbZiBoAPaZRA2BwRuNpdhpRA6DHVCkABmdlMs3OZSNqAPSXRg2AwbltPM2SETUAemxLVaqqnlBVN1TV/qp60RH2e1RVTarqKdsXIgBsr9F4mp2W5wegx45apapqKckrk1yQ5NwkF1fVuZvs9++SvHO7gwSA7bRieX4Aem4r/514XpL9rbUbW2ujJFckuXCD/Z6f5I+TfH4b4wOAbTeamPoIQL8tb2GfM5LctObxgSSPXrtDVZ2R5CeS/K9JHrXZgarqkiSXJMnpp5+evXv3fovhHnsHDx7sZVxDIPfdkftuyf/x95VbvpFbv35LDp06kfuOOO+7I/fdkfvuLGLut9KobTQ3pK17/LtJXtham1RtPpWktXZ5ksuTZPfu3W3Pnj1bi/I42rt3b/oY1xDIfXfkvlvyf/ztet/enHbve+Wudz2Yx8h9J5z33ZH77sh9dxYx91tp1A4kOWvN4zOT3Lxun91Jrpg3aacleWJVjVtrb9uOIAFgO83uo+YaNQD6ayuN2jVJzqmqByX5TJKLkvzk2h1aaw9a/bqqXpvkHZo0APpqNJlm2aqPAPTYURu11tq4qi7NbDXHpSSvaa1dX1XPnW+/7BjHCADbajSeZuddjKgB0F9bGVFLa+2qJFete27DBq219tN3PiwAOHZG42mWLc8PQI+Z9wHA4KxM3PAagH5TpQAYlOm0ZTxtWbaYCAA9plEDYFBGk2mSGFEDoNdUKQAGZbVRM6IGQJ9p1AAYlNF4PqK2rAQC0F+qFACDstqoGVEDoM80agAMysrhqY9KIAD9pUoBMCiHpz66jxoAPaZRA2BQrPoIwCJQpQAYlMPXqGnUAOgxVQqAQTH1EYBFoFEDYFBWJi2JqY8A9JsqBcCgjCaTJMmS5fkB6DGNGgCDcnjqo+X5AegxVQqAQRmtTn1cNqIGQH9p1AAYlMOrPhpRA6DHVCkABsWqjwAsAo0aAIOyMlkdUdOoAdBfGjUABsUNrwFYBKoUAIMympj6CED/adQAGBSLiQCwCFQpAAZlNJlm51Jlh2vUAOgxjRoAg7IynmaX69MA6DmVCoBBGU2m2bms/AHQbyoVAIMyMqIGwAJQqQAYlNFkml1G1ADoOZUKgEExogbAIlCpABiU0diIGgD9p1IBMCgrk2l2GlEDoOdUKgAGxTVqACwClQqAQVkZN9eoAdB7KhUAg3Kb+6gBsABUKgAGxaqPACwClQqAQVmZTHOSETUAek6lAmBQRuNpdi5V12EAwBFp1AAYFPdRA2ARqFQADMqK5fkBWAAqFQCDMpv6qPwB0G8qFQCDcpsRNQAWgEoFwGC01mZTH42oAdBzKhUAgzGetrQWjRoAvadSATAYK5Npkpj6CEDvqVQADMZoPGvULCYCQN+pVAAMxmqjZkQNgL5TqQAYjJGpjwAsCJUKgME4PKJm6iMAPadSATAYRtQAWBQqFQCDsTJuSYyoAdB/KhUAgzGaTJIkO42oAdBzKhUAg3Gba9QAWBBbqlRV9YSquqGq9lfVizbY/vSq+uD8z9VV9fDtDxUA7pyVyXzq43J1HAkAHNlRG7WqWkryyiQXJDk3ycVVde663T6R5Edaaw9L8rIkl293oABwZ92+6uNSx5EAwJFtZUTtvCT7W2s3ttZGSa5IcuHaHVprV7fWvjJ/+N4kZ25vmABw561Y9RGABbGVSnVGkpvWPD4wf24zP5PkT+9MUABwLKyOqO1cMvURgH6r1tqRd6h6apLHt9aePX/8jCTntdaev8G+5yd5VZIfbK19aYPtlyS5JElOP/30R15xxRV3/hNss4MHD+bkk0/uOoxBkvvuyH235P/4ec+BlbzmulF+60fumu/6+Idz6NChrDzqUV2HNUjO++7IfXfkvjt9zf35559/bWtt90bblrfw+gNJzlrz+MwkN6/fqaoeluTVSS7YqElLktba5Zlfv7Z79+62Z8+eLbz98bV37970Ma4hkPvuyH235P/4OfDeTyXXXZcf/sH/Jfe9x12yb9++PEbuO+G8747cd0fuu7OIud/K1MdrkpxTVQ+qql1JLkpy5dodquoBSd6S5BmttY9tf5gAcOeNLM8PwII46ohaa21cVZcmeWeSpSSvaa1dX1XPnW+/LMkvJbl3kldVVZKMNxvCA4CujCwmAsCC2MrUx7TWrkpy1brnLlvz9bOTPHt7QwOA7bViRA2ABaFSATAYo8k0VcnSDqs+AtBvGjUABmM0nmbX0o7Mp+kDQG9p1AAYjNFkatojAAtBtQJgMEbjqYVEAFgIqhUAg7Ey0agBsBhUKwAGYzSeZqepjwAsANUKgMEYGVEDYEGoVgAMxmjcLCYCwEJQrQAYjNFkmp1G1ABYAKoVAIMxGk9ykhE1ABaAagXAYKxMmmvUAFgIqhUAgzFb9bG6DgMAjkqjBsBguOE1AItCtQJgMFYm7qMGwGJQrQAYjNuMqAGwIFQrAAZjZTLNSRo1ABaAagXAYIxMfQRgQahWAAzGaDzNLo0aAAtAtQJgMFYmrlEDYDGoVgAMwnTasjJppj4CsBBUKwAGYTSZJokRNQAWgmoFwCCszBs1qz4CsAhUKwAGYTSeNWqmPgKwCFQrAAbB1EcAFolqBcAgrIxbEiNqACwG1QqAQRhNJkmMqAGwGFQrAAZhNB9Rc8NrABaBagXAINx+jVp1HAkAHJ1GDYBBWF31cdfSUseRAMDRadQAGIQVqz4CsEBUKwAG4fb7qJn6CED/adQAGITbxkbUAFgcqhUAg7A69fEkjRoAC0C1AmAQbp/6qPQB0H+qFQCDMLKYCAALRLUCYBBWpz4aUQNgEahWAAzCyGIiACwQ1QqAQTg89dGIGgALQLUCYBAOj6hp1ABYAKoVAIMwGk+zvKOyY4cbXgPQfxo1AAZhZTJ1fRoAC0PFAmAQRuOpFR8BWBgqFgCDMDKiBsACUbEAGITRuFlIBICFoWIBMAhG1ABYJCoWAIMwGk+MqAGwMFQsAAZhZdKyc9nS/AAsBo0aAIMwGk+NqAGwMFQsAAbBNWoALBIVC4BBcB81ABaJigXAIIzG05xkRA2ABbGlilVVT6iqG6pqf1W9aIPtVVUvn2//YFU9YvtDBYBv34qpjwAskKNWrKpaSvLKJBckOTfJxVV17rrdLkhyzvzPJUl+f5vjBIA7ZTQx9RGAxbG8hX3OS7K/tXZjklTVFUkuTPLhNftcmOR1rbWW5L1VdWpV3a+19tlNj3rwYHL11d9+5MfAuz/8P3Ll+z6RP3vHR7sOZZBuPXir3HdE7rsl/8fHd37h1pxz22nJ1YdmT3zoQ7nbjTf2rhYNxd2vuy7ZtavrMAZJ7rsj991ZxNxvpVE7I8lNax4fSPLoLexzRpI7NGpVdUlmI255wL3ulX379n2r8R5Tn/nCOMs1zfjQN7oOZZDkvjty3y35Pz7OOqVy33z1cO2524035rbbbutdLRqKQ4cOyX1H5L47ct+dRcz9Vhq1je4O2r6NfdJauzzJ5Umye/fu9ohLL93C2x8/j0iyd+/e7Nmzp+tQBknuuyP33ZL/jlx9dfbt25e+1aKh2Lt3bx7jvO+E3HdH7rvT29w///mbbtrKZP0DSc5a8/jMJDd/G/sAAACwBVtp1K5Jck5VPaiqdiW5KMmV6/a5Mskz56s/fn+SW454fRoAAACbOurUx9bauKouTfLOJEtJXtNau76qnjvfflmSq5I8Mcn+JN9I8qxjFzIAAMCJbSvXqKW1dlVmzdja5y5b83VL8rztDQ0AAGCY3FAGAACgZzRqAAAAPaNRAwAA6BmNGgAAQM9o1AAAAHpGowYAANAzGjUAAICe0agBAAD0jEYNAACgZ6q11s0bV30hyac6efMjOy3JF7sOYqDkvjty3y35747cd0fuuyP33ZH77vQ19w9srd1now2dNWp9VVXva63t7jqOIZL77sh9t+S/O3LfHbnvjtx3R+67s4i5N/URAACgZzRqAAAAPaNR+2aXdx3AgMl9d+S+W/LfHbnvjtx3R+67I/fdWbjcu0YNAACgZ4yoAQAA9MwgG7WqempVXV9V06ravW7bv66q/VV1Q1U9fpPX36uq3l1Vfz//+57HJ/ITS1W9qareP//zyap6/yb7fbKqPjTf733HOcwTUlW9pKo+syb/T9xkvyfM/y3sr6oXHe84T1RV9ZtV9dGq+mBVvbWqTt1kP+f+NjjaeVwzL59v/2BVPaKLOE9EVXVWVf3XqvrIvO7+iw322VNVt6z5efRLXcR6IjrazxDn/rFRVd+95nx+f1V9rar+5bp9nPfbpKpeU1Wfr6rr1jy3pd/V+/57ziCnPlbVQ5JMk/yHJD/XWnvf/Plzk7wxyXlJ7p/kz5P8o9baZN3rfyPJl1trvz7/pt6ztfbC4/kZTjRV9dtJbmmt/coG2z6ZZHdrrY/3vlhIVfWSJAdba791hH2WknwsyT9OciDJNUkubq19+LgEeQKrqh9N8hettXFV/bsk2ehniHP/ztvKeTz/j4rnJ3likkcn+b3W2qM7CPeEU1X3S3K/1tq+qjolybVJnrwu/3syq8U/1k2UJ66j/Qxx7h97859Bn0ny6Nbap9Y8vyfO+21RVT+c5GCS17XWvmf+3FF/V1+E33MGOaLWWvtIa+2GDTZdmOSK1tptrbVPJNmfWdO20X5/OP/6D5M8+ZgEOhBVVUmellmTTH+cl2R/a+3G1tooyRWZnfvcSa21d7XWxvOH701yZpfxnOC2ch5fmFmBb6219yY5dd5gcCe11j7bWts3//rrST6S5Ixuo2IN5/6x99gkH1/bpLG9WmvvSfLldU9v5Xf13v+eM8hG7QjOSHLTmscHsnFBOb219tlkVoSS3Pc4xHYi+6Ekn2ut/f0m21uSd1XVtVV1yXGM60R36Xyqy2s2mRKw1X8P3Dn/PMmfbrLNuX/nbeU8dq4fB1V1dpLvS/K3G2z+gar6QFX9aVU99PhGdkI72s8Q5/6xd1E2/49o5/2xs5Xf1Xt//i93HcCxUlV/nuQ7N9j04tbaf9nsZRs8N7y5odtoi9+Hi3Pk0bTHtNZurqr7Jnl3VX10/r8nHMGRcp/k95O8LLPz+2VJfjuzhuEOh9jgtf49bNFWzv2qenGScZLXb3IY5/6dt5Xz2Ll+jFXVyUn+OMm/bK19bd3mfUke2Fo7OJ+K97Yk5xznEE9UR/sZ4tw/hqpqV5InJfnXG2x23nev9+f/CduotdYe92287ECSs9Y8PjPJzRvs97mqul9r7bPzKQKf/3ZiHIKjfR+qajnJ/5bkkUc4xs3zvz9fVW/NbKjaL6tHsdV/A1X1/yZ5xwabtvrvgQ1s4dz/qSQ/luSxbZOLhZ3722Ir57Fz/Riqqp2ZNWmvb629Zf32tY1ba+2qqnpVVZ3m2sw7bws/Q5z7x9YFSfa11j63foPz/pjbyu/qvT//TX28oyuTXFRVJ1XVgzL7n42/22S/n5p//VNJNhuh4+gel+SjrbUDG22sqrvNL0BPVd0tyY8muW6jfdm6ddcg/EQ2zuk1Sc6pqgfN/1fwoszOfe6kqnpCkhcmeVJr7Rub7OPc3x5bOY+vTPLM+Qp435/ZwkafPd6Bnojm1yD/QZKPtNZ+Z5N9vnO+X6rqvMx+N/nS8YvyxLTFnyHO/WNr0xlDzvtjbiu/q/f+95wTdkTtSKrqJ5L8+yT3SfInVfX+1trjW2vXV9Wbk3w4s+lIz1td8bGqXp3ksvkKkb+e5M1V9TNJPp3kqZ18kBPDN83drqr7J3l1a+2JSU5P8tb5z7LlJG9orf3ZcY/yxPMbVfW9mQ3xfzLJc5I75n6+IuGlSd6ZZCnJa1pr13cU74nmFUlOymwqUpK8t7X2XOf+9tvsPK6q5863X5bkqsxWvduf5BtJntVVvCegxyR5RpIP1e23YPmFJA9IDuf/KUl+tqrGSQ4luWizUWa+JRv+DHHuHx9V9R2ZrSb4nDXPrc29836bVNUbk+xJclpVHUjyy9nkd/VF+z1nkMvzAwAA9JmpjwAAAD2jUQMAAOgZjRoAAEDPaNQAAAB6RqMGAADQMxo1AACAntGoAQAA9IxGDQAAoGf+f6hjinY+qJkRAAAAAElFTkSuQmCC\n",
          "text/plain": "<Figure size 1080x432 with 1 Axes>"
         },
         "metadata": {
          "needs_background": "light"
         },
         "output_type": "display_data"
        }
       ]
      }
     },
     "89c50031355b4acca83461c64e2abf33": {
      "model_module": "@jupyter-widgets/base",
      "model_module_version": "1.2.0",
      "model_name": "LayoutModel",
      "state": {}
     },
     "8d292206121f4b2da77ca207963024dc": {
      "model_module": "@jupyter-widgets/controls",
      "model_module_version": "1.5.0",
      "model_name": "VBoxModel",
      "state": {
       "_dom_classes": [
        "widget-interact"
       ],
       "children": [
        "IPY_MODEL_d88aef99182b4bc78337b120a22afe87",
        "IPY_MODEL_306ce52816024756ba1d16d8173c4209"
       ],
       "layout": "IPY_MODEL_a9bf11d529ae4d2283ab1f9a7182ced3"
      }
     },
     "a9bf11d529ae4d2283ab1f9a7182ced3": {
      "model_module": "@jupyter-widgets/base",
      "model_module_version": "1.2.0",
      "model_name": "LayoutModel",
      "state": {}
     },
     "d88aef99182b4bc78337b120a22afe87": {
      "model_module": "@jupyter-widgets/controls",
      "model_module_version": "1.5.0",
      "model_name": "ToggleButtonsModel",
      "state": {
       "_options_labels": [
        "binary_step",
        "linear_fct",
        "sigmoid",
        "tanh",
        "relu",
        "leaky_relu",
        "param_relu",
        "exp_linu",
        "swish",
        "softmax"
       ],
       "button_style": "success",
       "description": "actfunc",
       "icons": [],
       "index": 0,
       "layout": "IPY_MODEL_efce4dd8980245b096d06a1ee070f8aa",
       "style": "IPY_MODEL_3067aedc2e614b1daa308aff19527b22",
       "tooltips": []
      }
     },
     "efce4dd8980245b096d06a1ee070f8aa": {
      "model_module": "@jupyter-widgets/base",
      "model_module_version": "1.2.0",
      "model_name": "LayoutModel",
      "state": {}
     }
    },
    "version_major": 2,
    "version_minor": 0
   }
  }
 },
 "nbformat": 4,
 "nbformat_minor": 4
}
