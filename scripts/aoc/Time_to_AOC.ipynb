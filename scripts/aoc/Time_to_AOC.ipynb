{
 "cells": [
  {
   "cell_type": "markdown",
   "metadata": {},
   "source": [
    "# Finding the remaining time till the start of Advent of Code:\n",
    "\n",
    "AoC will start on December 1st at midnight EST (UTC-5)"
   ]
  },
  {
   "cell_type": "code",
   "execution_count": 1,
   "metadata": {},
   "outputs": [],
   "source": [
    "import datetime\n",
    "import pytz"
   ]
  },
  {
   "cell_type": "code",
   "execution_count": 2,
   "metadata": {},
   "outputs": [
    {
     "name": "stdout",
     "output_type": "stream",
     "text": [
      "local_date: 2020-11-23\n",
      "======================\n",
      "local_time: 15:59:44.678526\n",
      "===========================\n",
      "Time until event:\n",
      "7 days, 14 hours, 0 minutes, 15 seconds\n"
     ]
    }
   ],
   "source": [
    "# get timezones\n",
    "local_tz = pytz.timezone('CET')\n",
    "target_tz = pytz.timezone('EST')\n",
    "\n",
    "# get times without timezones\n",
    "local_time = datetime.datetime.now()\n",
    "print(f'local_date: {local_time.date()}\\n{22*\"=\"}')\n",
    "print(f'local_time: {local_time.time()}\\n{27*\"=\"}')\n",
    "target_time = datetime.datetime(2020, 12, 1, 0, 0, 0)\n",
    "\n",
    "# add tz info to times\n",
    "local_time_tz = local_tz.localize(local_time)\n",
    "target_time_tz = target_tz.localize(target_time)\n",
    "\n",
    "# convert target_time_tz to target_time_local_tz\n",
    "target_time_local_tz = target_time_tz.astimezone(local_tz)\n",
    "target_time_local_tz\n",
    "\n",
    "# get timedelta between target_time_local_tz and local_time_tz\n",
    "delta = target_time_local_tz - local_time_tz\n",
    "duration_in_s = delta.total_seconds()\n",
    "#print(type(delta))\n",
    "#print(delta)\n",
    "delta_days = divmod(duration_in_s, 86400)\n",
    "delta_hrs = divmod(delta_days[1], 3600)\n",
    "delta_mins = divmod(delta_hrs[1], 60)\n",
    "delta_secs = divmod(delta_mins[1], 1)\n",
    "print('Time until event:\\n{} days, {} hours, {} minutes, {} seconds'.format(int(delta_days[0]),\n",
    "                                                                            int(delta_hrs[0]),\n",
    "                                                                            int(delta_mins[0]),\n",
    "                                                                            int(delta_secs[0]),\n",
    "                                                                            ))"
   ]
  },
  {
   "cell_type": "code",
   "execution_count": null,
   "metadata": {},
   "outputs": [],
   "source": []
  }
 ],
 "metadata": {
  "kernelspec": {
   "display_name": "Python 3",
   "language": "python",
   "name": "python3"
  },
  "language_info": {
   "codemirror_mode": {
    "name": "ipython",
    "version": 3
   },
   "file_extension": ".py",
   "mimetype": "text/x-python",
   "name": "python",
   "nbconvert_exporter": "python",
   "pygments_lexer": "ipython3",
   "version": "3.8.5"
  }
 },
 "nbformat": 4,
 "nbformat_minor": 4
}
