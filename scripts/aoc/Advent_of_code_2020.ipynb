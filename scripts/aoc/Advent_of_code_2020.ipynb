{
 "cells": [
  {
   "cell_type": "markdown",
   "metadata": {},
   "source": [
    "# Advent of code 2020\n",
    "\n",
    "## imports"
   ]
  },
  {
   "cell_type": "code",
   "execution_count": 1,
   "metadata": {},
   "outputs": [],
   "source": [
    "import re\n",
    "\n",
    "import numpy as np\n",
    "import pandas as pd\n",
    "import matplotlib.pyplot as plt"
   ]
  },
  {
   "cell_type": "markdown",
   "metadata": {},
   "source": [
    "## Day 1"
   ]
  },
  {
   "cell_type": "code",
   "execution_count": 2,
   "metadata": {},
   "outputs": [],
   "source": [
    "test_data = '1721 979 366 299 675 1456'.split()"
   ]
  },
  {
   "cell_type": "code",
   "execution_count": 3,
   "metadata": {},
   "outputs": [
    {
     "name": "stdout",
     "output_type": "stream",
     "text": [
      "326211\n",
      "131347190\n"
     ]
    }
   ],
   "source": [
    "def get_lines(fname):\n",
    "    \"\"\"Get lines from input file\"\"\"\n",
    "    with open(fname) as f:\n",
    "        lines = f.readlines()\n",
    "    return lines\n",
    "\n",
    "def clean_lines(lines):\n",
    "    \"\"\"Parse lines and cleanup\"\"\"\n",
    "    return [int(line.strip()) for line in lines]\n",
    "\n",
    "def get_parts_2(lines, total):\n",
    "    \"\"\"Find parts in lines for total\"\"\"\n",
    "    for i in lines:\n",
    "        for j in lines:\n",
    "            if i + j == total:\n",
    "                return i, j\n",
    "\n",
    "def get_parts_3(lines, total):\n",
    "    \"\"\"Find part in lines for total\"\"\"\n",
    "    for i in lines:\n",
    "        for j in lines:\n",
    "            for k in lines:\n",
    "                if i + j + k == total:\n",
    "                    return i, j, k\n",
    "                                \n",
    "def sol_d1p1(fname, total):\n",
    "    \"\"\"Solution for day 1 part 1\"\"\"\n",
    "    lines = get_lines(fname)\n",
    "    clean = clean_lines(lines)\n",
    "    i, j = get_parts_2(clean, total)\n",
    "    return i * j\n",
    "\n",
    "def sol_d1p2(fname, total):\n",
    "    \"\"\"Solution for day 1 part 1\"\"\"\n",
    "    lines = get_lines(fname)\n",
    "    clean = clean_lines(lines)\n",
    "    i, j, k = get_parts_3(clean, total)\n",
    "    return i * j * k\n",
    "\n",
    "    \n",
    "print(sol_d1p1('./data_2020/day1_part1.txt', 2020)) # correct\n",
    "print(sol_d1p2('./data_2020/day1_part1.txt', 2020)) # correct"
   ]
  },
  {
   "cell_type": "markdown",
   "metadata": {},
   "source": [
    "## Day 2"
   ]
  },
  {
   "cell_type": "code",
   "execution_count": 4,
   "metadata": {},
   "outputs": [],
   "source": [
    "fname = './data_2020/day2'"
   ]
  },
  {
   "cell_type": "code",
   "execution_count": 5,
   "metadata": {},
   "outputs": [
    {
     "name": "stdout",
     "output_type": "stream",
     "text": [
      "(569, 346)\n"
     ]
    }
   ],
   "source": [
    "def count_valids(lines):\n",
    "    \"\"\"Count number of valid passwords\"\"\"\n",
    "    lowhigh = r'\\d{1,}-\\d{1,}'\n",
    "    letter = r'[a-z]:'\n",
    "    pwd_pattern = r'[a-zA-Z]{,}\\n'\n",
    "    valids_a, valids_b = 0, 0\n",
    "    for line in lines:\n",
    "        low_str, high_str = re.findall(lowhigh, line)[0].split('-')\n",
    "        idx_i, idx_j = int(low_str) - 1, int(high_str) - 1\n",
    "        key = re.findall(letter, line)[0].strip(':')\n",
    "        pwd = re.findall(pwd_pattern, line)[0].strip()\n",
    "        key_count = pwd.count(key)\n",
    "        if int(low_str) <= key_count <= int(high_str):\n",
    "            valids_a += 1\n",
    "        if (pwd[idx_i] == key or pwd[idx_j] == key) and not (pwd[idx_i] == key and pwd[idx_j] == key):\n",
    "            valids_b += 1\n",
    "\n",
    "    return valids_a, valids_b\n",
    "\n",
    "print(count_valids(get_lines(fname))) # 569, 346 valid"
   ]
  },
  {
   "cell_type": "markdown",
   "metadata": {},
   "source": [
    "## Day 3"
   ]
  },
  {
   "cell_type": "code",
   "execution_count": 6,
   "metadata": {},
   "outputs": [],
   "source": [
    "fname = './data_2020/day3'"
   ]
  },
  {
   "cell_type": "code",
   "execution_count": 7,
   "metadata": {},
   "outputs": [],
   "source": [
    "lines = get_lines(fname)\n",
    "right, down = 3, 1\n",
    "start = 0, 0"
   ]
  },
  {
   "cell_type": "code",
   "execution_count": 8,
   "metadata": {},
   "outputs": [],
   "source": [
    "test = \"\"\"..##.......\n",
    "#...#...#..\n",
    ".#....#..#.\n",
    "..#.#...#.#\n",
    ".#...##..#.\n",
    "..#.##.....\n",
    ".#.#.#....#\n",
    ".#........#\n",
    "#.##...#...\n",
    "#...##....#\n",
    ".#..#...#.#\"\"\"\n",
    "test_lines = [line + '\\n' for line in test.split()]"
   ]
  },
  {
   "cell_type": "code",
   "execution_count": 9,
   "metadata": {},
   "outputs": [
    {
     "name": "stdout",
     "output_type": "stream",
     "text": [
      "['..##.......\\n', '#...#...#..\\n', '.#....#..#.\\n', '..#.#...#.#\\n', '.#...##..#.\\n', '..#.##.....\\n', '.#.#.#....#\\n', '.#........#\\n', '#.##...#...\\n', '#...##....#\\n', '.#..#...#.#\\n']\n"
     ]
    }
   ],
   "source": [
    "print(test_lines)"
   ]
  },
  {
   "cell_type": "code",
   "execution_count": 10,
   "metadata": {},
   "outputs": [
    {
     "data": {
      "text/plain": [
       "(11, 12)"
      ]
     },
     "execution_count": 10,
     "metadata": {},
     "output_type": "execute_result"
    }
   ],
   "source": [
    "def get_slope_dimensions(slope):\n",
    "    slope_height = 0\n",
    "    for line in slope:\n",
    "        slope_height += 1\n",
    "    panel_width = len(line)\n",
    "    return slope_height, panel_width\n",
    "    \n",
    "slope_height, panel_width = get_slope_dimensions(test_lines)\n",
    "slope_height, panel_width"
   ]
  },
  {
   "cell_type": "code",
   "execution_count": 11,
   "metadata": {},
   "outputs": [
    {
     "data": {
      "text/plain": [
       "148"
      ]
     },
     "execution_count": 11,
     "metadata": {},
     "output_type": "execute_result"
    }
   ],
   "source": [
    "def sled(right, down, slope):\n",
    "    r, d = 0, 0\n",
    "    slope_height, panel_width = get_slope_dimensions(slope)\n",
    "    trees = 0\n",
    "    for i in range(slope_height):\n",
    "        #print(f'coords:\\t{r},{d}\\ntree:\\t{slope[d][r]}')\n",
    "        if slope[d][r] == '#':\n",
    "            trees += 1\n",
    "        r += right\n",
    "        r %= (panel_width - 1)\n",
    "        d += down\n",
    "        if d > slope_height:\n",
    "            break\n",
    "    return trees\n",
    "    \n",
    "sled(right, down, lines) # Part 1 correct"
   ]
  },
  {
   "cell_type": "code",
   "execution_count": 12,
   "metadata": {},
   "outputs": [
    {
     "name": "stdout",
     "output_type": "stream",
     "text": [
      "[50, 148, 53, 64, 29]\n"
     ]
    },
    {
     "data": {
      "text/plain": [
       "727923200"
      ]
     },
     "execution_count": 12,
     "metadata": {},
     "output_type": "execute_result"
    }
   ],
   "source": [
    "rights, downs = [1, 3, 5, 7, 1], [1, 1, 1, 1, 2]\n",
    "trees = []\n",
    "for r, d in zip(rights, downs):\n",
    "    #print(sled(r, d, lines))\n",
    "    trees.append(sled(r, d, lines))\n",
    "print(trees)\n",
    "\n",
    "prod = 1\n",
    "for t in trees:\n",
    "    prod *= t\n",
    "prod # 727923200 correct\n",
    "\n",
    "#1280140800 incorrect, too high"
   ]
  },
  {
   "cell_type": "markdown",
   "metadata": {},
   "source": [
    "## Day 4"
   ]
  },
  {
   "cell_type": "code",
   "execution_count": 13,
   "metadata": {},
   "outputs": [],
   "source": [
    "fname = './data_2020/day4'\n",
    "lines = get_lines(fname)"
   ]
  },
  {
   "cell_type": "code",
   "execution_count": 14,
   "metadata": {},
   "outputs": [],
   "source": [
    "test_lines = [\n",
    "'ecl:gry pid:860033327 eyr:2020 hcl:#fffffd\\n',\n",
    "'byr:1937 iyr:2017 cid:147 hgt:183cm\\n',\n",
    "'\\n',\n",
    "'iyr:2013 ecl:amb cid:350 eyr:2023 pid:028048884\\n',\n",
    "'hcl:#cfa07d byr:1929\\n',\n",
    "'\\n',\n",
    "'hcl:#ae17e1 iyr:2013\\n',\n",
    "'eyr:2024\\n',\n",
    "'ecl:brn pid:760753108 byr:1931\\n',\n",
    "'hgt:179cm\\n',\n",
    "'\\n',\n",
    "'hcl:#cfa07d eyr:2025 pid:166559648\\n',\n",
    "'iyr:2011 ecl:brn hgt:59in\\n',\n",
    "'\\n',\n",
    "'hcl:#ae17e1 iyr:2013\\n',\n",
    "'eyr:2024\\n',\n",
    "'ecl:brn pid:760753108 byr:1931\\n',\n",
    "'hgt:179cm\\n',\n",
    "]"
   ]
  },
  {
   "cell_type": "code",
   "execution_count": 15,
   "metadata": {},
   "outputs": [],
   "source": [
    "test_lines.append('\\n')"
   ]
  },
  {
   "cell_type": "code",
   "execution_count": 16,
   "metadata": {},
   "outputs": [
    {
     "data": {
      "text/plain": [
       "['ecl:gry pid:860033327 eyr:2020 hcl:#fffffd\\n',\n",
       " 'byr:1937 iyr:2017 cid:147 hgt:183cm\\n',\n",
       " '\\n',\n",
       " 'iyr:2013 ecl:amb cid:350 eyr:2023 pid:028048884\\n',\n",
       " 'hcl:#cfa07d byr:1929\\n',\n",
       " '\\n',\n",
       " 'hcl:#ae17e1 iyr:2013\\n',\n",
       " 'eyr:2024\\n',\n",
       " 'ecl:brn pid:760753108 byr:1931\\n',\n",
       " 'hgt:179cm\\n',\n",
       " '\\n',\n",
       " 'hcl:#cfa07d eyr:2025 pid:166559648\\n',\n",
       " 'iyr:2011 ecl:brn hgt:59in\\n',\n",
       " '\\n',\n",
       " 'hcl:#ae17e1 iyr:2013\\n',\n",
       " 'eyr:2024\\n',\n",
       " 'ecl:brn pid:760753108 byr:1931\\n',\n",
       " 'hgt:179cm\\n',\n",
       " '\\n']"
      ]
     },
     "execution_count": 16,
     "metadata": {},
     "output_type": "execute_result"
    }
   ],
   "source": [
    "test_lines"
   ]
  },
  {
   "cell_type": "code",
   "execution_count": 17,
   "metadata": {
    "scrolled": false
   },
   "outputs": [
    {
     "data": {
      "text/plain": [
       "213"
      ]
     },
     "execution_count": 17,
     "metadata": {},
     "output_type": "execute_result"
    }
   ],
   "source": [
    "def count_valids(batch, optkey='cid'):\n",
    "    \"\"\"Count valid passports.\n",
    "    A valid passport must match the fields set\n",
    "    A valid passport is allowed one missing field: 'cid'\n",
    "    \"\"\"\n",
    "    batch.append('\\n')\n",
    "    fields = set('byr iyr eyr hgt hcl ecl pid cid'.split())\n",
    "    valids, invalids, data = [], [], {}\n",
    "    for line in batch:\n",
    "        for item in line.split():\n",
    "            k, v = item.split(':')\n",
    "            data.update({k: v})\n",
    "        if not line.split():\n",
    "            if fields.difference(set(data.keys())) == {optkey}:\n",
    "                valids.append(data)   \n",
    "            if fields.difference(set(data.keys())) == set():\n",
    "                valids.append(data)\n",
    "            else:\n",
    "                invalids.append(data)\n",
    "                \n",
    "            data = {}\n",
    "\n",
    "    return len(valids), len(invalids), valids\n",
    "\n",
    "count_valids(lines)[0]\n",
    "#213 correct"
   ]
  },
  {
   "cell_type": "code",
   "execution_count": 18,
   "metadata": {},
   "outputs": [],
   "source": [
    "*_, valids = count_valids(lines)"
   ]
  },
  {
   "cell_type": "code",
   "execution_count": 19,
   "metadata": {},
   "outputs": [
    {
     "data": {
      "text/plain": [
       "(148, 7)"
      ]
     },
     "execution_count": 19,
     "metadata": {},
     "output_type": "execute_result"
    }
   ],
   "source": [
    "def count_still_valids(valids):\n",
    "    \"\"\"Count still valids based on new verification rules\"\"\"\n",
    "    patterns = {'byr': r'\\d{4}',\n",
    "                'iyr': r'\\d{4}',\n",
    "                'eyr': r'\\d{4}',\n",
    "                'hgt': r'(\\d{3})(cm)|(\\d{2})(in)',\n",
    "                'hcl': r'#[0-9a-f]{6}',\n",
    "                'ecl': set('amb blu brn gry grn hzl oth'.split()),\n",
    "                'pid': r'^(\\d{9})$',\n",
    "               }\n",
    "    still_valids = []\n",
    "    for val in valids:\n",
    "        checks = 0\n",
    "        for k, v in val.items():\n",
    "            if k == 'cid':\n",
    "                continue  \n",
    "            if k == 'byr':\n",
    "                if 1920 <= int(v) <= 2002:\n",
    "                    checks += 1\n",
    "                continue\n",
    "            if k == 'iyr':\n",
    "                if 2010 <= int(v) <= 2020:\n",
    "                    checks += 1\n",
    "                continue\n",
    "            if k == 'eyr':\n",
    "                if 2020 <= int(v) <= 2030:\n",
    "                    checks += 1\n",
    "                continue                \n",
    "            if k == 'hgt':\n",
    "                if 'cm' in v.lower():\n",
    "                    try:\n",
    "                        height = int(re.findall(patterns[k], v)[0][0])\n",
    "                        if 150 <= height <= 193:\n",
    "                            checks += 1\n",
    "                    except IndexError:\n",
    "                        continue\n",
    "                elif 'in' in v.lower():\n",
    "                    try:\n",
    "                        height = int(re.findall(patterns[k], v)[0][2])\n",
    "                        if 59 <= height <= 76:\n",
    "                            checks += 1\n",
    "                    except IndexError:\n",
    "                        continue\n",
    "                continue\n",
    "            if k == 'hcl':\n",
    "                if re.findall(patterns[k], v):\n",
    "                    checks += 1\n",
    "                continue                \n",
    "            if k == 'ecl':\n",
    "                if v in patterns[k]:\n",
    "                    checks += 1\n",
    "                continue\n",
    "            if k == 'pid':\n",
    "                if re.findall(patterns[k], v):\n",
    "                    checks += 1\n",
    "                continue                \n",
    "           \n",
    "        if checks == 7:\n",
    "            still_valids.append(val)\n",
    "\n",
    "    return len(still_valids), checks\n",
    "\n",
    "count_still_valids(count_valids(lines)[2])"
   ]
  },
  {
   "cell_type": "code",
   "execution_count": 20,
   "metadata": {},
   "outputs": [],
   "source": [
    "# Day 4 part 2 failed.\n",
    "#154 incorrect, too high\n",
    "#150 incorrect, too high\n",
    "#149 incorrect, too high\n",
    "#148 incorrect, too high"
   ]
  },
  {
   "cell_type": "markdown",
   "metadata": {},
   "source": [
    "### Day 5"
   ]
  },
  {
   "cell_type": "code",
   "execution_count": 21,
   "metadata": {},
   "outputs": [],
   "source": [
    "fname = './data_2020/day5'\n",
    "lines = get_lines(fname)"
   ]
  },
  {
   "cell_type": "code",
   "execution_count": 22,
   "metadata": {},
   "outputs": [],
   "source": [
    "lines = [line.strip() for line in lines]"
   ]
  },
  {
   "cell_type": "code",
   "execution_count": 23,
   "metadata": {},
   "outputs": [],
   "source": [
    "def get_rows(lines):\n",
    "    seat = range(0,128)\n",
    "    nrows = 128\n",
    "    rows = {}\n",
    "    for line in lines:\n",
    "        row = nrows\n",
    "        for char in line[:7]:\n",
    "            row //= 2\n",
    "            if char == 'F':\n",
    "                seat = seat[:row]\n",
    "            if char == 'B':\n",
    "                seat = seat[row:]\n",
    "        row = list(seat)\n",
    "        seat = range(0, 128)\n",
    "        rows[line] = row[0]\n",
    "    return rows\n",
    "\n",
    "rows = get_rows(lines)"
   ]
  },
  {
   "cell_type": "code",
   "execution_count": 24,
   "metadata": {},
   "outputs": [],
   "source": [
    "def get_cols(lines):\n",
    "    seat = range(0,8)\n",
    "    ncols = 8\n",
    "    cols = {}\n",
    "    for line in lines:\n",
    "        col = ncols\n",
    "        for char in line[7:]:\n",
    "            col //= 2\n",
    "            if char == 'L':\n",
    "                seat = seat[:col]\n",
    "            if char == 'R':\n",
    "                seat = seat[col:]\n",
    "        col = list(seat)\n",
    "        seat = range(0,8)\n",
    "        cols[line] = col[0]\n",
    "    return cols\n",
    "\n",
    "cols = get_cols(lines)"
   ]
  },
  {
   "cell_type": "code",
   "execution_count": 25,
   "metadata": {},
   "outputs": [
    {
     "data": {
      "text/plain": [
       "832"
      ]
     },
     "execution_count": 25,
     "metadata": {},
     "output_type": "execute_result"
    }
   ],
   "source": [
    "ids = []\n",
    "for row, col in zip(rows.values(), cols.values()):\n",
    "    ids.append(row * 8 + col)\n",
    "max(ids)"
   ]
  },
  {
   "cell_type": "code",
   "execution_count": 26,
   "metadata": {},
   "outputs": [],
   "source": [
    "#726 incorrect, too low\n",
    "#832 correct"
   ]
  },
  {
   "cell_type": "code",
   "execution_count": 27,
   "metadata": {},
   "outputs": [
    {
     "data": {
      "text/plain": [
       "([51, 52, 53, 54, 55], [828, 829, 830, 831, 832])"
      ]
     },
     "execution_count": 27,
     "metadata": {},
     "output_type": "execute_result"
    }
   ],
   "source": [
    "sorted(ids)[:5], sorted(ids)[-5:]"
   ]
  },
  {
   "cell_type": "code",
   "execution_count": 71,
   "metadata": {},
   "outputs": [
    {
     "name": "stdout",
     "output_type": "stream",
     "text": [
      "517\n"
     ]
    }
   ],
   "source": [
    "ids = []\n",
    "for row, col in zip(rows.values(), cols.values()):\n",
    "    ids.append(row * 8 + col)\n",
    "    #print(row, col)\n",
    "    \n",
    "start = 51\n",
    "for id_ in sorted(ids):\n",
    "    if id_ != start:\n",
    "        print(id_ - 1)\n",
    "        break\n",
    "    start += 1"
   ]
  },
  {
   "cell_type": "code",
   "execution_count": 72,
   "metadata": {},
   "outputs": [],
   "source": [
    "#518 incorrect, too high\n",
    "#517 correct"
   ]
  },
  {
   "cell_type": "code",
   "execution_count": null,
   "metadata": {},
   "outputs": [],
   "source": []
  }
 ],
 "metadata": {
  "kernelspec": {
   "display_name": "geocomp",
   "language": "python",
   "name": "geocomp"
  },
  "language_info": {
   "codemirror_mode": {
    "name": "ipython",
    "version": 3
   },
   "file_extension": ".py",
   "mimetype": "text/x-python",
   "name": "python",
   "nbconvert_exporter": "python",
   "pygments_lexer": "ipython3",
   "version": "3.8.5"
  }
 },
 "nbformat": 4,
 "nbformat_minor": 4
}
