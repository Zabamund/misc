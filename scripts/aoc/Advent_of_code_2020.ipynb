{
 "cells": [
  {
   "cell_type": "markdown",
   "metadata": {},
   "source": [
    "# Advent of code 2020\n",
    "\n",
    "## imports"
   ]
  },
  {
   "cell_type": "code",
   "execution_count": 1,
   "metadata": {},
   "outputs": [],
   "source": [
    "import re\n",
    "\n",
    "import numpy as np\n",
    "import pandas as pd\n",
    "import matplotlib.pyplot as plt"
   ]
  },
  {
   "cell_type": "markdown",
   "metadata": {},
   "source": [
    "## Day 1"
   ]
  },
  {
   "cell_type": "code",
   "execution_count": 2,
   "metadata": {},
   "outputs": [],
   "source": [
    "test_data = '1721 979 366 299 675 1456'.split()"
   ]
  },
  {
   "cell_type": "code",
   "execution_count": 3,
   "metadata": {},
   "outputs": [
    {
     "name": "stdout",
     "output_type": "stream",
     "text": [
      "326211\n",
      "131347190\n"
     ]
    }
   ],
   "source": [
    "def get_lines(fname):\n",
    "    \"\"\"Get lines from input file\"\"\"\n",
    "    with open(fname) as f:\n",
    "        lines = f.readlines()\n",
    "    return lines\n",
    "\n",
    "def clean_lines(lines):\n",
    "    \"\"\"Parse lines and cleanup\"\"\"\n",
    "    return [int(line.strip()) for line in lines]\n",
    "\n",
    "def get_parts_2(lines, total):\n",
    "    \"\"\"Find parts in lines for total\"\"\"\n",
    "    for i in lines:\n",
    "        for j in lines:\n",
    "            if i + j == total:\n",
    "                return i, j\n",
    "\n",
    "def get_parts_3(lines, total):\n",
    "    \"\"\"Find part in lines for total\"\"\"\n",
    "    for i in lines:\n",
    "        for j in lines:\n",
    "            for k in lines:\n",
    "                if i + j + k == total:\n",
    "                    return i, j, k\n",
    "                                \n",
    "def sol_d1p1(fname, total):\n",
    "    \"\"\"Solution for day 1 part 1\"\"\"\n",
    "    lines = get_lines(fname)\n",
    "    clean = clean_lines(lines)\n",
    "    i, j = get_parts_2(clean, total)\n",
    "    return i * j\n",
    "\n",
    "def sol_d1p2(fname, total):\n",
    "    \"\"\"Solution for day 1 part 1\"\"\"\n",
    "    lines = get_lines(fname)\n",
    "    clean = clean_lines(lines)\n",
    "    i, j, k = get_parts_3(clean, total)\n",
    "    return i * j * k\n",
    "\n",
    "    \n",
    "print(sol_d1p1('./data_2020/day1_part1.txt', 2020)) # correct\n",
    "print(sol_d1p2('./data_2020/day1_part1.txt', 2020)) # correct"
   ]
  },
  {
   "cell_type": "markdown",
   "metadata": {},
   "source": [
    "## Day 2"
   ]
  },
  {
   "cell_type": "code",
   "execution_count": 4,
   "metadata": {},
   "outputs": [],
   "source": [
    "fname = './data_2020/day2'"
   ]
  },
  {
   "cell_type": "code",
   "execution_count": 5,
   "metadata": {},
   "outputs": [
    {
     "name": "stdout",
     "output_type": "stream",
     "text": [
      "(569, 346)\n"
     ]
    }
   ],
   "source": [
    "def count_valids(lines):\n",
    "    \"\"\"Count number of valid passwords\"\"\"\n",
    "    lowhigh = r'\\d{1,}-\\d{1,}'\n",
    "    letter = r'[a-z]:'\n",
    "    pwd_pattern = r'[a-zA-Z]{,}\\n'\n",
    "    valids_a, valids_b = 0, 0\n",
    "    for line in lines:\n",
    "        low_str, high_str = re.findall(lowhigh, line)[0].split('-')\n",
    "        idx_i, idx_j = int(low_str) - 1, int(high_str) - 1\n",
    "        key = re.findall(letter, line)[0].strip(':')\n",
    "        pwd = re.findall(pwd_pattern, line)[0].strip()\n",
    "        key_count = pwd.count(key)\n",
    "        if int(low_str) <= key_count <= int(high_str):\n",
    "            valids_a += 1\n",
    "        if (pwd[idx_i] == key or pwd[idx_j] == key) and not (pwd[idx_i] == key and pwd[idx_j] == key):\n",
    "            valids_b += 1\n",
    "\n",
    "    return valids_a, valids_b\n",
    "\n",
    "print(count_valids(get_lines(fname))) # 569, 346 valid"
   ]
  },
  {
   "cell_type": "markdown",
   "metadata": {},
   "source": [
    "## Day 3"
   ]
  },
  {
   "cell_type": "code",
   "execution_count": 6,
   "metadata": {},
   "outputs": [],
   "source": [
    "fname = './data_2020/day3'"
   ]
  },
  {
   "cell_type": "code",
   "execution_count": 7,
   "metadata": {},
   "outputs": [],
   "source": [
    "lines = get_lines(fname)\n",
    "right, down = 3, 1\n",
    "start = 0, 0"
   ]
  },
  {
   "cell_type": "code",
   "execution_count": 8,
   "metadata": {},
   "outputs": [],
   "source": [
    "test = \"\"\"..##.......\n",
    "#...#...#..\n",
    ".#....#..#.\n",
    "..#.#...#.#\n",
    ".#...##..#.\n",
    "..#.##.....\n",
    ".#.#.#....#\n",
    ".#........#\n",
    "#.##...#...\n",
    "#...##....#\n",
    ".#..#...#.#\"\"\"\n",
    "test_lines = [line + '\\n' for line in test.split()]"
   ]
  },
  {
   "cell_type": "code",
   "execution_count": 9,
   "metadata": {},
   "outputs": [
    {
     "name": "stdout",
     "output_type": "stream",
     "text": [
      "['..##.......\\n', '#...#...#..\\n', '.#....#..#.\\n', '..#.#...#.#\\n', '.#...##..#.\\n', '..#.##.....\\n', '.#.#.#....#\\n', '.#........#\\n', '#.##...#...\\n', '#...##....#\\n', '.#..#...#.#\\n']\n"
     ]
    }
   ],
   "source": [
    "print(test_lines)"
   ]
  },
  {
   "cell_type": "code",
   "execution_count": 10,
   "metadata": {},
   "outputs": [
    {
     "data": {
      "text/plain": [
       "(11, 12)"
      ]
     },
     "execution_count": 10,
     "metadata": {},
     "output_type": "execute_result"
    }
   ],
   "source": [
    "def get_slope_dimensions(slope):\n",
    "    slope_height = 0\n",
    "    for line in slope:\n",
    "        slope_height += 1\n",
    "    panel_width = len(line)\n",
    "    return slope_height, panel_width\n",
    "    \n",
    "slope_height, panel_width = get_slope_dimensions(test_lines)\n",
    "slope_height, panel_width"
   ]
  },
  {
   "cell_type": "code",
   "execution_count": 11,
   "metadata": {},
   "outputs": [
    {
     "data": {
      "text/plain": [
       "148"
      ]
     },
     "execution_count": 11,
     "metadata": {},
     "output_type": "execute_result"
    }
   ],
   "source": [
    "def sled(right, down, slope):\n",
    "    r, d = 0, 0\n",
    "    slope_height, panel_width = get_slope_dimensions(slope)\n",
    "    trees = 0\n",
    "    for i in range(slope_height):\n",
    "        #print(f'coords:\\t{r},{d}\\ntree:\\t{slope[d][r]}')\n",
    "        if slope[d][r] == '#':\n",
    "            trees += 1\n",
    "        r += right\n",
    "        r %= (panel_width - 1)\n",
    "        d += down\n",
    "        if d > slope_height:\n",
    "            break\n",
    "    return trees\n",
    "    \n",
    "sled(right, down, lines) # Part 1 correct"
   ]
  },
  {
   "cell_type": "code",
   "execution_count": 12,
   "metadata": {},
   "outputs": [
    {
     "name": "stdout",
     "output_type": "stream",
     "text": [
      "[50, 148, 53, 64, 29]\n"
     ]
    },
    {
     "data": {
      "text/plain": [
       "727923200"
      ]
     },
     "execution_count": 12,
     "metadata": {},
     "output_type": "execute_result"
    }
   ],
   "source": [
    "rights, downs = [1, 3, 5, 7, 1], [1, 1, 1, 1, 2]\n",
    "trees = []\n",
    "for r, d in zip(rights, downs):\n",
    "    #print(sled(r, d, lines))\n",
    "    trees.append(sled(r, d, lines))\n",
    "print(trees)\n",
    "\n",
    "prod = 1\n",
    "for t in trees:\n",
    "    prod *= t\n",
    "prod # 727923200 correct\n",
    "\n",
    "#1280140800 incorrect, too high"
   ]
  },
  {
   "cell_type": "code",
   "execution_count": null,
   "metadata": {},
   "outputs": [],
   "source": []
  }
 ],
 "metadata": {
  "kernelspec": {
   "display_name": "geocomp",
   "language": "python",
   "name": "geocomp"
  },
  "language_info": {
   "codemirror_mode": {
    "name": "ipython",
    "version": 3
   },
   "file_extension": ".py",
   "mimetype": "text/x-python",
   "name": "python",
   "nbconvert_exporter": "python",
   "pygments_lexer": "ipython3",
   "version": "3.8.5"
  }
 },
 "nbformat": 4,
 "nbformat_minor": 4
}
