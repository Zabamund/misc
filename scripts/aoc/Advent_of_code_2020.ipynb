{
 "cells": [
  {
   "cell_type": "markdown",
   "metadata": {},
   "source": [
    "# Advent of code 2020\n",
    "\n",
    "## imports"
   ]
  },
  {
   "cell_type": "code",
   "execution_count": 1,
   "metadata": {},
   "outputs": [],
   "source": [
    "import re\n",
    "\n",
    "import numpy as np\n",
    "import pandas as pd\n",
    "import matplotlib.pyplot as plt"
   ]
  },
  {
   "cell_type": "markdown",
   "metadata": {},
   "source": [
    "## Day 1"
   ]
  },
  {
   "cell_type": "code",
   "execution_count": 2,
   "metadata": {},
   "outputs": [],
   "source": [
    "test_data = '1721 979 366 299 675 1456'.split()"
   ]
  },
  {
   "cell_type": "code",
   "execution_count": 3,
   "metadata": {},
   "outputs": [
    {
     "name": "stdout",
     "output_type": "stream",
     "text": [
      "326211\n",
      "131347190\n"
     ]
    }
   ],
   "source": [
    "def get_lines(fname):\n",
    "    \"\"\"Get lines from input file\"\"\"\n",
    "    with open(fname) as f:\n",
    "        lines = f.readlines()\n",
    "    return lines\n",
    "\n",
    "def clean_lines(lines):\n",
    "    \"\"\"Parse lines and cleanup\"\"\"\n",
    "    return [int(line.strip()) for line in lines]\n",
    "\n",
    "def get_parts_2(lines, total):\n",
    "    \"\"\"Find parts in lines for total\"\"\"\n",
    "    for i in lines:\n",
    "        for j in lines:\n",
    "            if i + j == total:\n",
    "                return i, j\n",
    "\n",
    "def get_parts_3(lines, total):\n",
    "    \"\"\"Find part in lines for total\"\"\"\n",
    "    for i in lines:\n",
    "        for j in lines:\n",
    "            for k in lines:\n",
    "                if i + j + k == total:\n",
    "                    return i, j, k\n",
    "                                \n",
    "def sol_d1p1(fname, total):\n",
    "    \"\"\"Solution for day 1 part 1\"\"\"\n",
    "    lines = get_lines(fname)\n",
    "    clean = clean_lines(lines)\n",
    "    i, j = get_parts_2(clean, total)\n",
    "    return i * j\n",
    "\n",
    "def sol_d1p2(fname, total):\n",
    "    \"\"\"Solution for day 1 part 1\"\"\"\n",
    "    lines = get_lines(fname)\n",
    "    clean = clean_lines(lines)\n",
    "    i, j, k = get_parts_3(clean, total)\n",
    "    return i * j * k\n",
    "\n",
    "    \n",
    "print(sol_d1p1('./data_2020/day1_part1.txt', 2020)) # correct\n",
    "print(sol_d1p2('./data_2020/day1_part1.txt', 2020)) # correct"
   ]
  },
  {
   "cell_type": "markdown",
   "metadata": {},
   "source": [
    "## Day 2"
   ]
  },
  {
   "cell_type": "code",
   "execution_count": 4,
   "metadata": {},
   "outputs": [],
   "source": [
    "fname = './data_2020/day2'"
   ]
  },
  {
   "cell_type": "code",
   "execution_count": 5,
   "metadata": {},
   "outputs": [
    {
     "name": "stdout",
     "output_type": "stream",
     "text": [
      "(569, 346)\n"
     ]
    }
   ],
   "source": [
    "def count_valids(lines):\n",
    "    \"\"\"Count number of valid passwords\"\"\"\n",
    "    lowhigh = r'\\d{1,}-\\d{1,}'\n",
    "    letter = r'[a-z]:'\n",
    "    pwd_pattern = r'[a-zA-Z]{,}\\n'\n",
    "    valids_a, valids_b = 0, 0\n",
    "    for line in lines:\n",
    "        low_str, high_str = re.findall(lowhigh, line)[0].split('-')\n",
    "        idx_i, idx_j = int(low_str) - 1, int(high_str) - 1\n",
    "        key = re.findall(letter, line)[0].strip(':')\n",
    "        pwd = re.findall(pwd_pattern, line)[0].strip()\n",
    "        key_count = pwd.count(key)\n",
    "        if int(low_str) <= key_count <= int(high_str):\n",
    "            valids_a += 1\n",
    "        if (pwd[idx_i] == key or pwd[idx_j] == key) and not (pwd[idx_i] == key and pwd[idx_j] == key):\n",
    "            valids_b += 1\n",
    "\n",
    "    return valids_a, valids_b\n",
    "\n",
    "print(count_valids(get_lines(fname))) # 569, 346 valid"
   ]
  },
  {
   "cell_type": "markdown",
   "metadata": {},
   "source": [
    "## Day 3"
   ]
  },
  {
   "cell_type": "code",
   "execution_count": 6,
   "metadata": {},
   "outputs": [],
   "source": [
    "fname = './data_2020/day3'"
   ]
  },
  {
   "cell_type": "code",
   "execution_count": 7,
   "metadata": {},
   "outputs": [],
   "source": [
    "lines = get_lines(fname)\n",
    "right, down = 3, 1\n",
    "start = 0, 0"
   ]
  },
  {
   "cell_type": "code",
   "execution_count": 8,
   "metadata": {},
   "outputs": [],
   "source": [
    "test = \"\"\"..##.......\n",
    "#...#...#..\n",
    ".#....#..#.\n",
    "..#.#...#.#\n",
    ".#...##..#.\n",
    "..#.##.....\n",
    ".#.#.#....#\n",
    ".#........#\n",
    "#.##...#...\n",
    "#...##....#\n",
    ".#..#...#.#\"\"\"\n",
    "test_lines = [line + '\\n' for line in test.split()]"
   ]
  },
  {
   "cell_type": "code",
   "execution_count": 9,
   "metadata": {},
   "outputs": [
    {
     "name": "stdout",
     "output_type": "stream",
     "text": [
      "['..##.......\\n', '#...#...#..\\n', '.#....#..#.\\n', '..#.#...#.#\\n', '.#...##..#.\\n', '..#.##.....\\n', '.#.#.#....#\\n', '.#........#\\n', '#.##...#...\\n', '#...##....#\\n', '.#..#...#.#\\n']\n"
     ]
    }
   ],
   "source": [
    "print(test_lines)"
   ]
  },
  {
   "cell_type": "code",
   "execution_count": 10,
   "metadata": {},
   "outputs": [
    {
     "data": {
      "text/plain": [
       "(11, 12)"
      ]
     },
     "execution_count": 10,
     "metadata": {},
     "output_type": "execute_result"
    }
   ],
   "source": [
    "def get_slope_dimensions(slope):\n",
    "    slope_height = 0\n",
    "    for line in slope:\n",
    "        slope_height += 1\n",
    "    panel_width = len(line)\n",
    "    return slope_height, panel_width\n",
    "    \n",
    "slope_height, panel_width = get_slope_dimensions(test_lines)\n",
    "slope_height, panel_width"
   ]
  },
  {
   "cell_type": "code",
   "execution_count": 11,
   "metadata": {},
   "outputs": [
    {
     "data": {
      "text/plain": [
       "148"
      ]
     },
     "execution_count": 11,
     "metadata": {},
     "output_type": "execute_result"
    }
   ],
   "source": [
    "def sled(right, down, slope):\n",
    "    r, d = 0, 0\n",
    "    slope_height, panel_width = get_slope_dimensions(slope)\n",
    "    trees = 0\n",
    "    for i in range(slope_height):\n",
    "        #print(f'coords:\\t{r},{d}\\ntree:\\t{slope[d][r]}')\n",
    "        if slope[d][r] == '#':\n",
    "            trees += 1\n",
    "        r += right\n",
    "        r %= (panel_width - 1)\n",
    "        d += down\n",
    "        if d > slope_height:\n",
    "            break\n",
    "    return trees\n",
    "    \n",
    "sled(right, down, lines) # Part 1 correct"
   ]
  },
  {
   "cell_type": "code",
   "execution_count": 12,
   "metadata": {},
   "outputs": [
    {
     "name": "stdout",
     "output_type": "stream",
     "text": [
      "[50, 148, 53, 64, 29]\n"
     ]
    },
    {
     "data": {
      "text/plain": [
       "727923200"
      ]
     },
     "execution_count": 12,
     "metadata": {},
     "output_type": "execute_result"
    }
   ],
   "source": [
    "rights, downs = [1, 3, 5, 7, 1], [1, 1, 1, 1, 2]\n",
    "trees = []\n",
    "for r, d in zip(rights, downs):\n",
    "    #print(sled(r, d, lines))\n",
    "    trees.append(sled(r, d, lines))\n",
    "print(trees)\n",
    "\n",
    "prod = 1\n",
    "for t in trees:\n",
    "    prod *= t\n",
    "prod # 727923200 correct\n",
    "\n",
    "#1280140800 incorrect, too high"
   ]
  },
  {
   "cell_type": "markdown",
   "metadata": {},
   "source": [
    "## Day 4"
   ]
  },
  {
   "cell_type": "code",
   "execution_count": 13,
   "metadata": {},
   "outputs": [],
   "source": [
    "fname = './data_2020/day4'\n",
    "lines = get_lines(fname)"
   ]
  },
  {
   "cell_type": "code",
   "execution_count": 14,
   "metadata": {},
   "outputs": [],
   "source": [
    "#lines.append('\\n')"
   ]
  },
  {
   "cell_type": "code",
   "execution_count": 15,
   "metadata": {},
   "outputs": [],
   "source": [
    "test_lines = [\n",
    "'ecl:gry pid:860033327 eyr:2020 hcl:#fffffd\\n',\n",
    "'byr:1937 iyr:2017 cid:147 hgt:183cm\\n',\n",
    "'\\n',\n",
    "'iyr:2013 ecl:amb cid:350 eyr:2023 pid:028048884\\n',\n",
    "'hcl:#cfa07d byr:1929\\n',\n",
    "'\\n',\n",
    "'hcl:#ae17e1 iyr:2013\\n',\n",
    "'eyr:2024\\n',\n",
    "'ecl:brn pid:760753108 byr:1931\\n',\n",
    "'hgt:179cm\\n',\n",
    "'\\n',\n",
    "'hcl:#cfa07d eyr:2025 pid:166559648\\n',\n",
    "'iyr:2011 ecl:brn hgt:59in\\n',\n",
    "'\\n',\n",
    "'hcl:#ae17e1 iyr:2013\\n',\n",
    "'eyr:2024\\n',\n",
    "'ecl:brn pid:760753108 byr:1931\\n',\n",
    "'hgt:179cm\\n',\n",
    "]"
   ]
  },
  {
   "cell_type": "code",
   "execution_count": 16,
   "metadata": {},
   "outputs": [],
   "source": [
    "test_lines.append('\\n')"
   ]
  },
  {
   "cell_type": "code",
   "execution_count": 17,
   "metadata": {},
   "outputs": [
    {
     "data": {
      "text/plain": [
       "['ecl:gry pid:860033327 eyr:2020 hcl:#fffffd\\n',\n",
       " 'byr:1937 iyr:2017 cid:147 hgt:183cm\\n',\n",
       " '\\n',\n",
       " 'iyr:2013 ecl:amb cid:350 eyr:2023 pid:028048884\\n',\n",
       " 'hcl:#cfa07d byr:1929\\n',\n",
       " '\\n',\n",
       " 'hcl:#ae17e1 iyr:2013\\n',\n",
       " 'eyr:2024\\n',\n",
       " 'ecl:brn pid:760753108 byr:1931\\n',\n",
       " 'hgt:179cm\\n',\n",
       " '\\n',\n",
       " 'hcl:#cfa07d eyr:2025 pid:166559648\\n',\n",
       " 'iyr:2011 ecl:brn hgt:59in\\n',\n",
       " '\\n',\n",
       " 'hcl:#ae17e1 iyr:2013\\n',\n",
       " 'eyr:2024\\n',\n",
       " 'ecl:brn pid:760753108 byr:1931\\n',\n",
       " 'hgt:179cm\\n',\n",
       " '\\n']"
      ]
     },
     "execution_count": 17,
     "metadata": {},
     "output_type": "execute_result"
    }
   ],
   "source": [
    "test_lines"
   ]
  },
  {
   "cell_type": "code",
   "execution_count": 18,
   "metadata": {
    "scrolled": false
   },
   "outputs": [
    {
     "data": {
      "text/plain": [
       "213"
      ]
     },
     "execution_count": 18,
     "metadata": {},
     "output_type": "execute_result"
    }
   ],
   "source": [
    "def count_valids(batch, optkey='cid'):\n",
    "    \"\"\"Count valid passports.\n",
    "    A valid passport must match the fields set\n",
    "    A valid passport is allowed one missing field: 'cid'\n",
    "    \"\"\"\n",
    "    batch.append('\\n')\n",
    "    fields = set('byr iyr eyr hgt hcl ecl pid cid'.split())\n",
    "    valids, invalids, data = [], [], {}\n",
    "    for line in batch:\n",
    "        for item in line.split():\n",
    "            k, v = item.split(':')\n",
    "            data.update({k: v})\n",
    "        if not line.split():\n",
    "            if fields.difference(set(data.keys())) == {optkey}:\n",
    "                valids.append(data)   \n",
    "            if fields.difference(set(data.keys())) == set():\n",
    "                valids.append(data)\n",
    "            else:\n",
    "                invalids.append(data)\n",
    "                \n",
    "            data = {}\n",
    "\n",
    "    return len(valids), len(invalids), valids, invalids\n",
    "\n",
    "count_valids(lines)[0]\n",
    "#213 correct"
   ]
  },
  {
   "cell_type": "code",
   "execution_count": 19,
   "metadata": {},
   "outputs": [
    {
     "data": {
      "text/plain": [
       "(213, 172)"
      ]
     },
     "execution_count": 19,
     "metadata": {},
     "output_type": "execute_result"
    }
   ],
   "source": [
    "len_valids, len_invalids, valids, invalids = count_valids(lines)\n",
    "len_valids, len_invalids"
   ]
  },
  {
   "cell_type": "markdown",
   "metadata": {},
   "source": [
    "- byr (Birth Year) - four digits; at least 1920 and at most 2002.\n",
    "- iyr (Issue Year) - four digits; at least 2010 and at most 2020.\n",
    "- eyr (Expiration Year) - four digits; at least 2020 and at most 2030.\n",
    "- hgt (Height) - a number followed by either cm or in:\n",
    "    - If cm, the number must be at least 150 and at most 193.\n",
    "    - If in, the number must be at least 59 and at most 76.\n",
    "- hcl (Hair Color) - a # followed by exactly six characters 0-9 or a-f.\n",
    "- ecl (Eye Color) - exactly one of: amb blu brn gry grn hzl oth.\n",
    "- pid (Passport ID) - a nine-digit number, including leading zeroes.\n",
    "- cid (Country ID) - ignored, missing or not."
   ]
  },
  {
   "cell_type": "code",
   "execution_count": 20,
   "metadata": {},
   "outputs": [
    {
     "data": {
      "text/plain": [
       "[{'pid': '937877382',\n",
       "  'eyr': '2029',\n",
       "  'ecl': 'amb',\n",
       "  'hgt': '187cm',\n",
       "  'iyr': '2019',\n",
       "  'byr': '1933',\n",
       "  'hcl': '#888785'},\n",
       " {'hcl': '#7d3b0c',\n",
       "  'hgt': '183cm',\n",
       "  'cid': '135',\n",
       "  'byr': '1992',\n",
       "  'eyr': '2024',\n",
       "  'iyr': '2013',\n",
       "  'pid': '138000309',\n",
       "  'ecl': 'oth'}]"
      ]
     },
     "execution_count": 20,
     "metadata": {},
     "output_type": "execute_result"
    }
   ],
   "source": [
    "valids[:2]"
   ]
  },
  {
   "cell_type": "code",
   "execution_count": 21,
   "metadata": {},
   "outputs": [],
   "source": [
    "all_passports = valids + invalids"
   ]
  },
  {
   "cell_type": "code",
   "execution_count": 22,
   "metadata": {},
   "outputs": [
    {
     "name": "stdout",
     "output_type": "stream",
     "text": [
      "148\n"
     ]
    }
   ],
   "source": [
    "def count_still_valids(valids):\n",
    "    \"\"\"Count still valids based on new verification rules\"\"\"\n",
    "    patterns = {'byr': r'^(\\d{4})$',\n",
    "                'iyr': r'^(\\d{4})$',\n",
    "                'eyr': r'^(\\d{4})$',\n",
    "                'hgt': r'^(\\d{3})(cm)|(\\d{2})(in)$',\n",
    "                'hcl': r'^(#[a-f0-9]{6})$',\n",
    "                'ecl': set('amb blu brn gry grn hzl oth'.split()),\n",
    "                'pid': r'^(\\d{9})$',\n",
    "               }\n",
    "    all_keys = {'byr', 'eyr', 'hgt', 'ecl', 'pid', 'cid', 'hcl', 'iyr'}\n",
    "    still_valids = []\n",
    "    for val in valids:\n",
    "        checks = 0\n",
    "        diff = all_keys.difference(set(val.keys()))\n",
    "        if diff == set() or diff == {'cid'}:\n",
    "            checks += 1\n",
    "        for k, v in val.items():\n",
    "            if k == 'byr':\n",
    "                if 1920 <= int(re.findall(patterns[k], v)[0]) <= 2002:\n",
    "                    checks += 1\n",
    "            if k == 'iyr':\n",
    "                if 2010 <= int(re.findall(patterns[k], v)[0]) <= 2020:\n",
    "                    checks += 1\n",
    "            if k == 'eyr':\n",
    "                if 2020 <= int(re.findall(patterns[k], v)[0]) <= 2030:\n",
    "                    checks += 1\n",
    "            if k == 'hgt':\n",
    "                try:\n",
    "                    if 'cm' in re.findall(patterns[k], v)[0]:\n",
    "                        if 150 <= int(re.findall(patterns[k], v)[0][0]) <= 193:\n",
    "                            checks += 1\n",
    "                    if 'in' in re.findall(patterns[k], v)[0]:\n",
    "                        if 59 <= int(re.findall(patterns[k], v)[0][2]) <= 76:\n",
    "                            checks += 1\n",
    "                except IndexError:\n",
    "                    continue\n",
    "            if k == 'hcl':\n",
    "                if re.findall(patterns[k], v):\n",
    "                    checks += 1\n",
    "            if k == 'ecl':\n",
    "                if v in patterns[k]:\n",
    "                    checks += 1\n",
    "            if k == 'pid':\n",
    "                if re.findall(patterns[k], v):\n",
    "                    checks += 1\n",
    "                    \n",
    "        if checks == 8:\n",
    "            still_valids.append(val)\n",
    "                \n",
    "    return len(still_valids)\n",
    "\n",
    "print(count_still_valids(valids))"
   ]
  },
  {
   "cell_type": "code",
   "execution_count": 23,
   "metadata": {},
   "outputs": [],
   "source": [
    "# Day 4 part 2 failed.\n",
    "#224 incorrect, too high\n",
    "#154 incorrect, too high\n",
    "#150 incorrect, too high\n",
    "#149 incorrect, too high\n",
    "#148 incorrect, too high\n",
    "#157 incorrect, too high\n",
    "#76 incorrect"
   ]
  },
  {
   "cell_type": "markdown",
   "metadata": {},
   "source": [
    "### Day 5"
   ]
  },
  {
   "cell_type": "code",
   "execution_count": 24,
   "metadata": {},
   "outputs": [],
   "source": [
    "fname = './data_2020/day5'\n",
    "lines = get_lines(fname)"
   ]
  },
  {
   "cell_type": "code",
   "execution_count": 25,
   "metadata": {},
   "outputs": [],
   "source": [
    "lines = [line.strip() for line in lines]"
   ]
  },
  {
   "cell_type": "code",
   "execution_count": 26,
   "metadata": {},
   "outputs": [],
   "source": [
    "def get_rows(lines):\n",
    "    seat = range(0,128)\n",
    "    nrows = 128\n",
    "    rows = {}\n",
    "    for line in lines:\n",
    "        row = nrows\n",
    "        for char in line[:7]:\n",
    "            row //= 2\n",
    "            if char == 'F':\n",
    "                seat = seat[:row]\n",
    "            if char == 'B':\n",
    "                seat = seat[row:]\n",
    "        row = list(seat)\n",
    "        seat = range(0, 128)\n",
    "        rows[line] = row[0]\n",
    "    return rows\n",
    "\n",
    "rows = get_rows(lines)"
   ]
  },
  {
   "cell_type": "code",
   "execution_count": 27,
   "metadata": {},
   "outputs": [],
   "source": [
    "def get_cols(lines):\n",
    "    seat = range(0,8)\n",
    "    ncols = 8\n",
    "    cols = {}\n",
    "    for line in lines:\n",
    "        col = ncols\n",
    "        for char in line[7:]:\n",
    "            col //= 2\n",
    "            if char == 'L':\n",
    "                seat = seat[:col]\n",
    "            if char == 'R':\n",
    "                seat = seat[col:]\n",
    "        col = list(seat)\n",
    "        seat = range(0,8)\n",
    "        cols[line] = col[0]\n",
    "    return cols\n",
    "\n",
    "cols = get_cols(lines)"
   ]
  },
  {
   "cell_type": "code",
   "execution_count": 28,
   "metadata": {},
   "outputs": [
    {
     "data": {
      "text/plain": [
       "832"
      ]
     },
     "execution_count": 28,
     "metadata": {},
     "output_type": "execute_result"
    }
   ],
   "source": [
    "ids = []\n",
    "for row, col in zip(rows.values(), cols.values()):\n",
    "    ids.append(row * 8 + col)\n",
    "max(ids)"
   ]
  },
  {
   "cell_type": "code",
   "execution_count": 29,
   "metadata": {},
   "outputs": [],
   "source": [
    "#726 incorrect, too low\n",
    "#832 correct"
   ]
  },
  {
   "cell_type": "code",
   "execution_count": 30,
   "metadata": {},
   "outputs": [
    {
     "data": {
      "text/plain": [
       "([51, 52, 53, 54, 55], [828, 829, 830, 831, 832])"
      ]
     },
     "execution_count": 30,
     "metadata": {},
     "output_type": "execute_result"
    }
   ],
   "source": [
    "sorted(ids)[:5], sorted(ids)[-5:]"
   ]
  },
  {
   "cell_type": "code",
   "execution_count": 31,
   "metadata": {},
   "outputs": [
    {
     "name": "stdout",
     "output_type": "stream",
     "text": [
      "517\n"
     ]
    }
   ],
   "source": [
    "ids = []\n",
    "for row, col in zip(rows.values(), cols.values()):\n",
    "    ids.append(row * 8 + col)\n",
    "    #print(row, col)\n",
    "    \n",
    "start = 51\n",
    "for id_ in sorted(ids):\n",
    "    if id_ != start:\n",
    "        print(id_ - 1)\n",
    "        break\n",
    "    start += 1"
   ]
  },
  {
   "cell_type": "code",
   "execution_count": 32,
   "metadata": {},
   "outputs": [],
   "source": [
    "#518 incorrect, too high\n",
    "#517 correct"
   ]
  },
  {
   "cell_type": "markdown",
   "metadata": {},
   "source": [
    "### Day 6"
   ]
  },
  {
   "cell_type": "code",
   "execution_count": 33,
   "metadata": {},
   "outputs": [],
   "source": [
    "fname = './data_2020/day6'\n",
    "lines = get_lines(fname)"
   ]
  },
  {
   "cell_type": "code",
   "execution_count": 34,
   "metadata": {},
   "outputs": [],
   "source": [
    "lines.append('\\n')"
   ]
  },
  {
   "cell_type": "markdown",
   "metadata": {},
   "source": [
    "#### Part 1"
   ]
  },
  {
   "cell_type": "code",
   "execution_count": 35,
   "metadata": {},
   "outputs": [
    {
     "data": {
      "text/plain": [
       "6768"
      ]
     },
     "execution_count": 35,
     "metadata": {},
     "output_type": "execute_result"
    }
   ],
   "source": [
    "answers = []\n",
    "groups = {}\n",
    "group_num = 0\n",
    "for line in lines:\n",
    "    if line.strip():\n",
    "        answers.append(line.strip())\n",
    "    if not line.strip():\n",
    "        groups[group_num] = len(set(''.join(answers)))\n",
    "        answers = []\n",
    "        group_num += 1\n",
    "        continue\n",
    "sum(groups.values())"
   ]
  },
  {
   "cell_type": "code",
   "execution_count": 36,
   "metadata": {},
   "outputs": [],
   "source": [
    "#6756 incorrect, too low\n",
    "#6768 correct"
   ]
  },
  {
   "cell_type": "markdown",
   "metadata": {},
   "source": [
    "#### Part 2"
   ]
  },
  {
   "cell_type": "code",
   "execution_count": 37,
   "metadata": {},
   "outputs": [],
   "source": [
    "test = ['abc\\n',\n",
    "'\\n',\n",
    "'a\\n',\n",
    "'b\\n',\n",
    "'c\\n',\n",
    "'\\n',\n",
    "'ab\\n',\n",
    "'ac\\n',\n",
    "'\\n',\n",
    "'a\\n',\n",
    "'a\\n',\n",
    "'a\\n',\n",
    "'a\\n',\n",
    "'\\n',\n",
    "'b\\n',\n",
    "'\\n',]"
   ]
  },
  {
   "cell_type": "code",
   "execution_count": 38,
   "metadata": {},
   "outputs": [
    {
     "data": {
      "text/plain": [
       "3489"
      ]
     },
     "execution_count": 38,
     "metadata": {},
     "output_type": "execute_result"
    }
   ],
   "source": [
    "answers = []\n",
    "count = 0\n",
    "for line in lines:\n",
    "    if line.strip():\n",
    "        answers.append(line.strip())\n",
    "    if not line.strip():\n",
    "        all_sets = []\n",
    "        for ans in answers:\n",
    "            all_sets.append(set(ans))\n",
    "        count += len(set.intersection(*all_sets))\n",
    "        answers = []\n",
    "        continue\n",
    "count"
   ]
  },
  {
   "cell_type": "code",
   "execution_count": 39,
   "metadata": {},
   "outputs": [],
   "source": [
    "#3489 correct"
   ]
  },
  {
   "cell_type": "markdown",
   "metadata": {},
   "source": [
    "### Day 7"
   ]
  },
  {
   "cell_type": "code",
   "execution_count": 40,
   "metadata": {},
   "outputs": [],
   "source": [
    "fname = './data_2020/day7'\n",
    "lines = get_lines(fname)"
   ]
  },
  {
   "cell_type": "code",
   "execution_count": 41,
   "metadata": {},
   "outputs": [
    {
     "data": {
      "text/plain": [
       "['plaid magenta bags contain 2 clear lavender bags, 3 clear teal bags, 4 vibrant gold\\n',\n",
       " 'bags.\\n',\n",
       " 'light teal bags contain 4 drab magenta bags, 2 dull crimson bags, 3 posh brown bags.\\n',\n",
       " 'wavy gray bags contain 3 dark aqua bags.\\n',\n",
       " 'faded magenta bags contain 3 dark crimson bags, 3 dark violet bags.\\n']"
      ]
     },
     "execution_count": 41,
     "metadata": {},
     "output_type": "execute_result"
    }
   ],
   "source": [
    "lines[:5]"
   ]
  },
  {
   "cell_type": "code",
   "execution_count": 42,
   "metadata": {},
   "outputs": [],
   "source": [
    "test_lines = ['light red bags contain 1 bright white bag, 2 muted yellow bags.\\n',\n",
    "'dark orange bags contain 3 bright white bags, 4 muted yellow bags.\\n',\n",
    "'bright white bags contain 1 shiny gold bag.\\n',\n",
    "'muted yellow bags contain 2 shiny gold bags, 9 faded blue bags.\\n',\n",
    "'shiny gold bags contain 1 dark olive bag, 2 vibrant plum bags.\\n',\n",
    "'dark olive bags contain 3 faded blue bags, 4 dotted black bags.\\n',\n",
    "'vibrant plum bags contain 5 faded blue bags, 6 dotted black bags.\\n',\n",
    "'faded blue bags contain no other bags.\\n',\n",
    "'dotted black bags contain no other bags.\\n']"
   ]
  },
  {
   "cell_type": "code",
   "execution_count": 43,
   "metadata": {},
   "outputs": [],
   "source": [
    "rules = ''.join(lines).split('.')\n",
    "test_rules = ''.join(test_lines).split('.')"
   ]
  },
  {
   "cell_type": "code",
   "execution_count": 44,
   "metadata": {
    "scrolled": true
   },
   "outputs": [
    {
     "name": "stdout",
     "output_type": "stream",
     "text": [
      "bright white \n",
      "muted yellow \n",
      "==============================\n",
      "count: 0\n"
     ]
    }
   ],
   "source": [
    "count = 0\n",
    "pattern_sg = r'\\d{1,} (shiny gold)'\n",
    "pattern_cont = r'.+?(?=bags)'\n",
    "\n",
    "for rule in test_rules:\n",
    "    if re.findall(pattern_sg, rule): # find shiny_gold\n",
    "        if re.findall(pattern_cont, rule): # find container of shiny_gold\n",
    "            container = re.findall(pattern_cont, rule)[0]\n",
    "            print(container)\n",
    "\n",
    "print(f'{30 * \"=\"}\\ncount: {count}')"
   ]
  },
  {
   "cell_type": "markdown",
   "metadata": {},
   "source": [
    "### >>>>>>>> Day 7 fail.\n",
    "\n",
    "Though of using a loop, a recursive approach (but no idea how to implement), regex, functional approach.\n",
    "Failed."
   ]
  },
  {
   "cell_type": "markdown",
   "metadata": {},
   "source": [
    "### Day 8"
   ]
  },
  {
   "cell_type": "code",
   "execution_count": 45,
   "metadata": {},
   "outputs": [],
   "source": [
    "fname = './data_2020/day8'\n",
    "lines = get_lines(fname)"
   ]
  },
  {
   "cell_type": "code",
   "execution_count": 46,
   "metadata": {},
   "outputs": [
    {
     "data": {
      "text/plain": [
       "['acc -9\\n', 'jmp +1\\n', 'acc +3\\n', 'acc +32\\n', 'jmp +118\\n']"
      ]
     },
     "execution_count": 46,
     "metadata": {},
     "output_type": "execute_result"
    }
   ],
   "source": [
    "lines[:5]"
   ]
  },
  {
   "cell_type": "code",
   "execution_count": 47,
   "metadata": {},
   "outputs": [],
   "source": [
    "test_lines = [\n",
    "'nop +0\\n',\n",
    "'acc +1\\n',\n",
    "'jmp +4\\n',\n",
    "'acc +3\\n',\n",
    "'jmp -3\\n',\n",
    "'acc -99\\n',\n",
    "'acc +1\\n',\n",
    "'jmp -4\\n',\n",
    "'acc +6\\n',\n",
    "]"
   ]
  },
  {
   "cell_type": "code",
   "execution_count": 48,
   "metadata": {},
   "outputs": [
    {
     "data": {
      "text/plain": [
       "['nop +0\\n',\n",
       " 'acc +1\\n',\n",
       " 'jmp +4\\n',\n",
       " 'acc +3\\n',\n",
       " 'jmp -3\\n',\n",
       " 'acc -99\\n',\n",
       " 'acc +1\\n',\n",
       " 'jmp -4\\n',\n",
       " 'acc +6\\n']"
      ]
     },
     "execution_count": 48,
     "metadata": {},
     "output_type": "execute_result"
    }
   ],
   "source": [
    "test_lines"
   ]
  },
  {
   "cell_type": "code",
   "execution_count": 49,
   "metadata": {},
   "outputs": [
    {
     "name": "stdout",
     "output_type": "stream",
     "text": [
      "1584\n"
     ]
    }
   ],
   "source": [
    "def read_lines(lines, accumulator, idx):\n",
    "    op, arg_str = lines[idx].split()\n",
    "    arg = int(arg_str)\n",
    "    if op == 'nop':\n",
    "        idx += 1\n",
    "    if op == 'acc':\n",
    "        accumulator += arg\n",
    "        idx += 1\n",
    "    if op == 'jmp':\n",
    "        idx += arg\n",
    "    return accumulator, idx\n",
    "\n",
    "indexes = []\n",
    "acc, idx = 0, 0\n",
    "run = True\n",
    "while run:\n",
    "    acc, idx = read_lines(lines, acc, idx)\n",
    "    if idx in indexes:\n",
    "        run = False\n",
    "    indexes.append(idx)\n",
    "print(acc)"
   ]
  },
  {
   "cell_type": "code",
   "execution_count": 50,
   "metadata": {},
   "outputs": [],
   "source": [
    "# 1584 correct"
   ]
  },
  {
   "cell_type": "markdown",
   "metadata": {},
   "source": [
    "#### Day 8 part 2"
   ]
  },
  {
   "cell_type": "code",
   "execution_count": 51,
   "metadata": {},
   "outputs": [],
   "source": [
    "test_lines = [\n",
    "'nop +0\\n',\n",
    "'acc +1\\n',\n",
    "'jmp +4\\n',\n",
    "'acc +3\\n',\n",
    "'jmp -3\\n',\n",
    "'acc -99\\n',\n",
    "'acc +1\\n',\n",
    "'jmp -4\\n',\n",
    "'acc +6\\n',\n",
    "]"
   ]
  },
  {
   "cell_type": "code",
   "execution_count": 52,
   "metadata": {},
   "outputs": [
    {
     "name": "stdout",
     "output_type": "stream",
     "text": [
      "0 nop +0\n"
     ]
    }
   ],
   "source": [
    "test_lines_mod = test_lines.copy()\n",
    "for idx, line in enumerate(test_lines_mod):\n",
    "    op, arg_str = line.split()\n",
    "    print(idx, op, arg_str)\n",
    "    break\n",
    "    #### code below doesn't work; infinite loop\n",
    "    if op == 'nop':\n",
    "        test_lines_mod[idx] = f'jmp {arg_str}\\n'\n",
    "        print(test_lines_mod)\n",
    "        cc, idx = 0, 0\n",
    "        run = True\n",
    "        idxs = []\n",
    "        while run:\n",
    "            acc, idx = read_lines(lines, acc, idx)\n",
    "            idxs.append(idx)\n",
    "            if idx == len(lines):\n",
    "                print('boom')\n",
    "                run = False\n",
    "        print(acc)\n",
    "    if op == 'jmp':\n",
    "        test_lines_mod[idx] = f'nop {arg_str}\\n'\n",
    "        #print(test_lines_mod)\n",
    "        cc, idx = 0, 0\n",
    "        run = True\n",
    "        idxs = []\n",
    "        while run:\n",
    "            acc, idx = read_lines(lines, acc, idx)\n",
    "            idxs.append(idx)\n",
    "            if idx == len(lines):\n",
    "                print('boom')\n",
    "                run = False\n",
    "        print(acc)\n",
    "        \n",
    "    test_lines_mod = test_lines.copy()    "
   ]
  },
  {
   "cell_type": "code",
   "execution_count": 53,
   "metadata": {},
   "outputs": [],
   "source": [
    "#731 incorrect"
   ]
  },
  {
   "cell_type": "markdown",
   "metadata": {},
   "source": [
    "### Day 9"
   ]
  },
  {
   "cell_type": "code",
   "execution_count": 54,
   "metadata": {},
   "outputs": [],
   "source": [
    "fname = './data_2020/day9'\n",
    "lines = get_lines(fname)"
   ]
  },
  {
   "cell_type": "code",
   "execution_count": 55,
   "metadata": {},
   "outputs": [
    {
     "data": {
      "text/plain": [
       "[12, 36, 37, 31, 33]"
      ]
     },
     "execution_count": 55,
     "metadata": {},
     "output_type": "execute_result"
    }
   ],
   "source": [
    "lines = [int(line) for line in lines]\n",
    "lines[:5]"
   ]
  },
  {
   "cell_type": "code",
   "execution_count": 56,
   "metadata": {},
   "outputs": [],
   "source": [
    "test_lines = \"\"\"35\n",
    "20\n",
    "15\n",
    "25\n",
    "47\n",
    "40\n",
    "62\n",
    "55\n",
    "65\n",
    "95\n",
    "102\n",
    "117\n",
    "150\n",
    "182\n",
    "127\n",
    "219\n",
    "299\n",
    "277\n",
    "309\n",
    "576\"\"\".split()"
   ]
  },
  {
   "cell_type": "code",
   "execution_count": 57,
   "metadata": {},
   "outputs": [],
   "source": [
    "test_lines = [int(line) for line in test_lines]"
   ]
  },
  {
   "cell_type": "code",
   "execution_count": 58,
   "metadata": {},
   "outputs": [],
   "source": [
    "from itertools import combinations"
   ]
  },
  {
   "cell_type": "code",
   "execution_count": 59,
   "metadata": {},
   "outputs": [
    {
     "data": {
      "text/plain": [
       "675280050"
      ]
     },
     "execution_count": 59,
     "metadata": {},
     "output_type": "execute_result"
    }
   ],
   "source": [
    "def check_sum(lines, preamble=5):\n",
    "    #print(lines)\n",
    "    for idx, i in enumerate(lines[preamble:]):\n",
    "        previouses = lines[idx:preamble+idx]\n",
    "        #print(previouses, i)\n",
    "        pair_sums = []\n",
    "        for pair in combinations(previouses, 2):\n",
    "            pair_sum = sum(pair)\n",
    "            if pair_sum == i:\n",
    "                pair_sums.append(pair_sum)\n",
    "        if not pair_sums:\n",
    "                return i\n",
    "    else:\n",
    "        return None\n",
    "\n",
    "check_sum(lines, preamble=25)"
   ]
  },
  {
   "cell_type": "code",
   "execution_count": 60,
   "metadata": {},
   "outputs": [],
   "source": [
    "# 675280050 correct"
   ]
  },
  {
   "cell_type": "markdown",
   "metadata": {},
   "source": [
    "#### Part 2"
   ]
  },
  {
   "cell_type": "code",
   "execution_count": 61,
   "metadata": {},
   "outputs": [
    {
     "data": {
      "text/plain": [
       "96081673"
      ]
     },
     "execution_count": 61,
     "metadata": {},
     "output_type": "execute_result"
    }
   ],
   "source": [
    "def find_weak(lines, target=127):\n",
    "    #print(lines)\n",
    "    for idx, line in enumerate(lines):\n",
    "        for i in range(len(lines)):\n",
    "            #print(lines[idx:i])\n",
    "            if sum(lines[idx:i]) == target:\n",
    "                return min(lines[idx:i]) + max(lines[idx:i])\n",
    "    else:\n",
    "        print('None found')\n",
    "        return None\n",
    "            \n",
    "find_weak(lines, target=675280050)"
   ]
  },
  {
   "cell_type": "code",
   "execution_count": 62,
   "metadata": {},
   "outputs": [],
   "source": [
    "# 96081673 correct"
   ]
  },
  {
   "cell_type": "code",
   "execution_count": null,
   "metadata": {},
   "outputs": [],
   "source": []
  }
 ],
 "metadata": {
  "kernelspec": {
   "display_name": "geocomp",
   "language": "python",
   "name": "geocomp"
  },
  "language_info": {
   "codemirror_mode": {
    "name": "ipython",
    "version": 3
   },
   "file_extension": ".py",
   "mimetype": "text/x-python",
   "name": "python",
   "nbconvert_exporter": "python",
   "pygments_lexer": "ipython3",
   "version": "3.8.5"
  }
 },
 "nbformat": 4,
 "nbformat_minor": 4
}
