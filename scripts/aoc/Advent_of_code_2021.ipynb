{
 "cells": [
  {
   "cell_type": "markdown",
   "metadata": {},
   "source": [
    "# Advent of code 2021\n",
    "\n",
    "## imports"
   ]
  },
  {
   "cell_type": "code",
   "execution_count": 1,
   "metadata": {},
   "outputs": [],
   "source": [
    "import re\n",
    "from itertools import combinations, chain\n",
    "from collections import Counter\n",
    "\n",
    "import numpy as np\n",
    "import pandas as pd\n",
    "import matplotlib.pyplot as plt\n",
    "from tqdm import tqdm"
   ]
  },
  {
   "cell_type": "markdown",
   "metadata": {},
   "source": [
    "## Day 1"
   ]
  },
  {
   "cell_type": "code",
   "execution_count": 2,
   "metadata": {},
   "outputs": [
    {
     "data": {
      "text/plain": [
       "'199\\n200\\n208\\n210\\n200\\n207\\n240\\n269\\n260\\n263'"
      ]
     },
     "execution_count": 2,
     "metadata": {},
     "output_type": "execute_result"
    }
   ],
   "source": [
    "test_data = \"\"\"199\n",
    "200\n",
    "208\n",
    "210\n",
    "200\n",
    "207\n",
    "240\n",
    "269\n",
    "260\n",
    "263\"\"\"\n",
    "test_data"
   ]
  },
  {
   "cell_type": "code",
   "execution_count": 3,
   "metadata": {},
   "outputs": [],
   "source": [
    "with open('./data_2021/d1p1.txt', 'r') as f:\n",
    "    data = f.readlines()"
   ]
  },
  {
   "cell_type": "code",
   "execution_count": 4,
   "metadata": {},
   "outputs": [
    {
     "data": {
      "text/plain": [
       "['143\\n', '147\\n', '150\\n', '166\\n']"
      ]
     },
     "execution_count": 4,
     "metadata": {},
     "output_type": "execute_result"
    }
   ],
   "source": [
    "data[:4]"
   ]
  },
  {
   "cell_type": "code",
   "execution_count": 5,
   "metadata": {},
   "outputs": [],
   "source": [
    "def clean_data(data):\n",
    "    \"\"\"Remove newlines and save as list of ints\"\"\"\n",
    "    try:\n",
    "        return np.array([int(d) for d in data.split('\\n')])\n",
    "    except AttributeError:\n",
    "        return np.array([int(d) for d in data])\n",
    "            \n",
    "test_data = clean_data(test_data)\n",
    "data = clean_data(data)"
   ]
  },
  {
   "cell_type": "markdown",
   "metadata": {},
   "source": [
    "### Part 1"
   ]
  },
  {
   "cell_type": "code",
   "execution_count": 6,
   "metadata": {},
   "outputs": [
    {
     "data": {
      "text/plain": [
       "1532"
      ]
     },
     "execution_count": 6,
     "metadata": {},
     "output_type": "execute_result"
    }
   ],
   "source": [
    "def count_increases(data):\n",
    "    hi, lo = data[:-1], data[1:]\n",
    "    deltas = lo - hi\n",
    "    tot = len(deltas)\n",
    "    for d in deltas:\n",
    "        if d <= 0:\n",
    "            tot -= 1\n",
    "    return tot\n",
    "\n",
    "count_increases(data) # 1532 correct for data, 7 for test"
   ]
  },
  {
   "cell_type": "markdown",
   "metadata": {},
   "source": [
    "### Part 2"
   ]
  },
  {
   "cell_type": "code",
   "execution_count": 7,
   "metadata": {},
   "outputs": [],
   "source": [
    "from numpy.lib.stride_tricks import sliding_window_view"
   ]
  },
  {
   "cell_type": "code",
   "execution_count": 8,
   "metadata": {},
   "outputs": [
    {
     "data": {
      "text/plain": [
       "1571"
      ]
     },
     "execution_count": 8,
     "metadata": {},
     "output_type": "execute_result"
    }
   ],
   "source": [
    "def count_sliding(data):\n",
    "    slide = sliding_window_view(data, 3).sum(axis=1)\n",
    "    wrongs = [1570, 1616]\n",
    "    assert count_increases(slide) not in wrongs\n",
    "    return count_increases(slide)\n",
    "\n",
    "count_sliding(data) # 1571 correct"
   ]
  },
  {
   "cell_type": "markdown",
   "metadata": {},
   "source": [
    "## Day 2"
   ]
  },
  {
   "cell_type": "markdown",
   "metadata": {},
   "source": [
    "### Part 1"
   ]
  },
  {
   "cell_type": "code",
   "execution_count": 9,
   "metadata": {},
   "outputs": [
    {
     "data": {
      "text/plain": [
       "(['forward 5\\n',\n",
       "  'down 5\\n',\n",
       "  'forward 8\\n',\n",
       "  'up 3\\n',\n",
       "  'down 8\\n',\n",
       "  'forward 2\\n'],\n",
       " ['forward 6\\n', 'forward 9\\n', 'down 9\\n', 'down 7\\n', 'forward 8\\n'])"
      ]
     },
     "execution_count": 9,
     "metadata": {},
     "output_type": "execute_result"
    }
   ],
   "source": [
    "with open('./data_2021/d2p1_test') as f:\n",
    "    test = f.readlines()\n",
    "with open('./data_2021/d2p1') as f:\n",
    "    data = f.readlines()\n",
    "    \n",
    "start_hor, start_depth = 0, 0   \n",
    "test, data[:5]"
   ]
  },
  {
   "cell_type": "code",
   "execution_count": 10,
   "metadata": {},
   "outputs": [
    {
     "data": {
      "text/plain": [
       "2027977"
      ]
     },
     "execution_count": 10,
     "metadata": {},
     "output_type": "execute_result"
    }
   ],
   "source": [
    "def get_pos(data, start_x, start_z):\n",
    "    for line in data:\n",
    "        val = int(line.split()[-1])\n",
    "        if 'f' in line.lower():\n",
    "            start_x += val\n",
    "        elif 'd' in line.lower():\n",
    "            start_z += val\n",
    "        else:\n",
    "            start_z -= val\n",
    "    return start_x * start_z\n",
    "    \n",
    "assert get_pos(test, start_hor, start_depth) == 150\n",
    "get_pos(data, start_hor, start_depth) # 2027977 correct"
   ]
  },
  {
   "cell_type": "markdown",
   "metadata": {},
   "source": [
    "### Part 2"
   ]
  },
  {
   "cell_type": "code",
   "execution_count": 11,
   "metadata": {},
   "outputs": [
    {
     "data": {
      "text/plain": [
       "1903644897"
      ]
     },
     "execution_count": 11,
     "metadata": {},
     "output_type": "execute_result"
    }
   ],
   "source": [
    "def get_course(data, start_x=0, start_z=0, start_aim=0):\n",
    "    for line in data:\n",
    "        move, val_str = line.split()\n",
    "        move = move.lower()\n",
    "        val = int(val_str)\n",
    "        if move == 'down':\n",
    "            start_aim += val\n",
    "        elif move == 'up':\n",
    "            start_aim -= val\n",
    "        else:\n",
    "            start_x += val\n",
    "            start_z += start_aim * val\n",
    "    \n",
    "    return start_x * start_z\n",
    "\n",
    "assert get_course(test) == 900\n",
    "get_course(data) # 1903644897 correct"
   ]
  },
  {
   "cell_type": "markdown",
   "metadata": {},
   "source": [
    "## Day 3\n",
    "\n",
    "### Part 1"
   ]
  },
  {
   "cell_type": "code",
   "execution_count": 12,
   "metadata": {},
   "outputs": [
    {
     "name": "stdout",
     "output_type": "stream",
     "text": [
      "['00100', '11110'] ['000001110001', '000001111101']\n"
     ]
    }
   ],
   "source": [
    "with open('./data_2021/d3p1_test') as f:\n",
    "    test = [x.strip() for x in f.readlines()]\n",
    "with open('./data_2021/d3p1') as f:\n",
    "    data = [x.strip() for x in f.readlines()]\n",
    "print(test[:2], data[:2])"
   ]
  },
  {
   "cell_type": "code",
   "execution_count": 13,
   "metadata": {},
   "outputs": [
    {
     "data": {
      "text/plain": [
       "array([[0, 0, 1, 0, 0],\n",
       "       [1, 1, 1, 1, 0],\n",
       "       [1, 0, 1, 1, 0],\n",
       "       [1, 0, 1, 1, 1],\n",
       "       [1, 0, 1, 0, 1],\n",
       "       [0, 1, 1, 1, 1],\n",
       "       [0, 0, 1, 1, 1],\n",
       "       [1, 1, 1, 0, 0],\n",
       "       [1, 0, 0, 0, 0],\n",
       "       [1, 1, 0, 0, 1],\n",
       "       [0, 0, 0, 1, 0],\n",
       "       [0, 1, 0, 1, 0]], dtype=int8)"
      ]
     },
     "execution_count": 13,
     "metadata": {},
     "output_type": "execute_result"
    }
   ],
   "source": [
    "def make_array(data):\n",
    "    data_shape = len(data[0]), len(data)\n",
    "    matrix = np.zeros(data_shape, dtype='int8')\n",
    "    for idx, line in enumerate(data):\n",
    "        raw = ' '.join(line)\n",
    "        vec = np.fromstring(raw, dtype=int, sep=' ')\n",
    "        matrix[:, idx] = vec\n",
    "    return matrix.T\n",
    "\n",
    "make_array(test)"
   ]
  },
  {
   "cell_type": "code",
   "execution_count": 14,
   "metadata": {},
   "outputs": [
    {
     "data": {
      "text/plain": [
       "4118544"
      ]
     },
     "execution_count": 14,
     "metadata": {},
     "output_type": "execute_result"
    }
   ],
   "source": [
    "def power_consumption(array):\n",
    "    gamma, epsilon = '', ''\n",
    "    for i in range(array.shape[1]):\n",
    "        gamma   += str(np.bincount(array[:,i]).argmax())\n",
    "        epsilon += str(np.bincount(array[:,i]).argmin())\n",
    "    return int(gamma, 2) * int(epsilon, 2), gamma, epsilon\n",
    "    \n",
    "power_consumption(make_array(data))[0] # 4118544 correct"
   ]
  },
  {
   "cell_type": "markdown",
   "metadata": {},
   "source": [
    "### Part 2"
   ]
  },
  {
   "cell_type": "code",
   "execution_count": 100,
   "metadata": {},
   "outputs": [
    {
     "name": "stdout",
     "output_type": "stream",
     "text": [
      "[[1 1 1 1 0]\n",
      " [1 0 1 1 0]\n",
      " [1 0 1 1 1]\n",
      " [1 0 1 0 1]\n",
      " [1 1 1 0 0]\n",
      " [1 0 0 0 0]\n",
      " [1 1 0 0 1]]\n",
      "=========================\n"
     ]
    },
    {
     "data": {
      "text/plain": [
       "array([], shape=(0, 5), dtype=int8)"
      ]
     },
     "execution_count": 100,
     "metadata": {},
     "output_type": "execute_result"
    }
   ],
   "source": [
    "def ox_gen_rate(array):\n",
    "    _, gamma, epsilon = power_consumption(array)\n",
    "    for idx, g in enumerate(gamma):\n",
    "        arr = drop_rows(array, idx, g)\n",
    "        \n",
    "    return arr\n",
    "\n",
    "def drop_rows(array, col_idx, value):\n",
    "    mask = []\n",
    "    for row_idx, row in enumerate(array):\n",
    "        if row[col_idx] != value:\n",
    "            mask += [False]\n",
    "        else:\n",
    "            mask += [True]\n",
    "    mask = np.array(mask)\n",
    "            \n",
    "    return array[mask]\n",
    "\n",
    "print(drop_rows(make_array(test), 0, 1))\n",
    "print('=' * 25)\n",
    "ox_gen_rate(make_array(test))"
   ]
  },
  {
   "cell_type": "markdown",
   "metadata": {},
   "source": [
    "## D3P2 has me beat, recursion again."
   ]
  },
  {
   "cell_type": "code",
   "execution_count": null,
   "metadata": {},
   "outputs": [],
   "source": []
  }
 ],
 "metadata": {
  "kernelspec": {
   "display_name": "geocomp",
   "language": "python",
   "name": "geocomp"
  },
  "language_info": {
   "codemirror_mode": {
    "name": "ipython",
    "version": 3
   },
   "file_extension": ".py",
   "mimetype": "text/x-python",
   "name": "python",
   "nbconvert_exporter": "python",
   "pygments_lexer": "ipython3",
   "version": "3.9.7"
  }
 },
 "nbformat": 4,
 "nbformat_minor": 4
}
