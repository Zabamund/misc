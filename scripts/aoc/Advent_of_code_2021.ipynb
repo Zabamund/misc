{
 "cells": [
  {
   "cell_type": "markdown",
   "metadata": {},
   "source": [
    "# Advent of code 2021\n",
    "\n",
    "## imports"
   ]
  },
  {
   "cell_type": "code",
   "execution_count": 1,
   "metadata": {},
   "outputs": [],
   "source": [
    "import re\n",
    "from itertools import combinations, chain\n",
    "\n",
    "import numpy as np\n",
    "import pandas as pd\n",
    "import matplotlib.pyplot as plt\n",
    "from tqdm import tqdm"
   ]
  },
  {
   "cell_type": "markdown",
   "metadata": {},
   "source": [
    "## Day 1"
   ]
  },
  {
   "cell_type": "code",
   "execution_count": 2,
   "metadata": {},
   "outputs": [
    {
     "data": {
      "text/plain": [
       "'199\\n200\\n208\\n210\\n200\\n207\\n240\\n269\\n260\\n263'"
      ]
     },
     "execution_count": 2,
     "metadata": {},
     "output_type": "execute_result"
    }
   ],
   "source": [
    "test_data = \"\"\"199\n",
    "200\n",
    "208\n",
    "210\n",
    "200\n",
    "207\n",
    "240\n",
    "269\n",
    "260\n",
    "263\"\"\"\n",
    "test_data"
   ]
  },
  {
   "cell_type": "code",
   "execution_count": 3,
   "metadata": {},
   "outputs": [],
   "source": [
    "with open('./data_2021/d1p1.txt', 'r') as f:\n",
    "    data = f.readlines()"
   ]
  },
  {
   "cell_type": "code",
   "execution_count": 4,
   "metadata": {},
   "outputs": [
    {
     "data": {
      "text/plain": [
       "['143\\n', '147\\n', '150\\n', '166\\n']"
      ]
     },
     "execution_count": 4,
     "metadata": {},
     "output_type": "execute_result"
    }
   ],
   "source": [
    "data[:4]"
   ]
  },
  {
   "cell_type": "code",
   "execution_count": 5,
   "metadata": {},
   "outputs": [],
   "source": [
    "def clean_data(data):\n",
    "    \"\"\"Remove newlines and save as list of ints\"\"\"\n",
    "    try:\n",
    "        return np.array([int(d) for d in data.split('\\n')])\n",
    "    except AttributeError:\n",
    "        return np.array([int(d) for d in data])\n",
    "            \n",
    "test_data = clean_data(test_data)\n",
    "data = clean_data(data)"
   ]
  },
  {
   "cell_type": "markdown",
   "metadata": {},
   "source": [
    "### Part 1"
   ]
  },
  {
   "cell_type": "code",
   "execution_count": 6,
   "metadata": {},
   "outputs": [
    {
     "data": {
      "text/plain": [
       "1532"
      ]
     },
     "execution_count": 6,
     "metadata": {},
     "output_type": "execute_result"
    }
   ],
   "source": [
    "def count_increases(data):\n",
    "    hi, lo = data[:-1], data[1:]\n",
    "    deltas = lo - hi\n",
    "    tot = len(deltas)\n",
    "    for d in deltas:\n",
    "        if d <= 0:\n",
    "            tot -= 1\n",
    "    return tot\n",
    "\n",
    "count_increases(data) # 1532 correct for data, 7 for test"
   ]
  },
  {
   "cell_type": "markdown",
   "metadata": {},
   "source": [
    "### Part 2"
   ]
  },
  {
   "cell_type": "code",
   "execution_count": 7,
   "metadata": {},
   "outputs": [],
   "source": [
    "from numpy.lib.stride_tricks import sliding_window_view"
   ]
  },
  {
   "cell_type": "code",
   "execution_count": 8,
   "metadata": {},
   "outputs": [
    {
     "data": {
      "text/plain": [
       "1571"
      ]
     },
     "execution_count": 8,
     "metadata": {},
     "output_type": "execute_result"
    }
   ],
   "source": [
    "def count_sliding(data):\n",
    "    slide = sliding_window_view(data, 3).sum(axis=1)\n",
    "    wrongs = [1570, 1616]\n",
    "    assert count_increases(slide) not in wrongs\n",
    "    return count_increases(slide)\n",
    "\n",
    "count_sliding(data) # 1571 correct"
   ]
  },
  {
   "cell_type": "markdown",
   "metadata": {},
   "source": [
    "## Day 2"
   ]
  },
  {
   "cell_type": "markdown",
   "metadata": {},
   "source": [
    "### Part 1"
   ]
  },
  {
   "cell_type": "code",
   "execution_count": 16,
   "metadata": {},
   "outputs": [
    {
     "data": {
      "text/plain": [
       "(['forward 5\\n',\n",
       "  'down 5\\n',\n",
       "  'forward 8\\n',\n",
       "  'up 3\\n',\n",
       "  'down 8\\n',\n",
       "  'forward 2\\n'],\n",
       " ['forward 6\\n', 'forward 9\\n', 'down 9\\n', 'down 7\\n', 'forward 8\\n'])"
      ]
     },
     "execution_count": 16,
     "metadata": {},
     "output_type": "execute_result"
    }
   ],
   "source": [
    "with open('./data_2021/d2p1_test') as f:\n",
    "    test = f.readlines()\n",
    "with open('./data_2021/d2p1') as f:\n",
    "    data = f.readlines()\n",
    "    \n",
    "start_hor, start_depth = 0, 0   \n",
    "test, data[:5]"
   ]
  },
  {
   "cell_type": "code",
   "execution_count": 27,
   "metadata": {},
   "outputs": [
    {
     "data": {
      "text/plain": [
       "2027977"
      ]
     },
     "execution_count": 27,
     "metadata": {},
     "output_type": "execute_result"
    }
   ],
   "source": [
    "def get_pos(data, start_x, start_z):\n",
    "    for line in data:\n",
    "        val = int(line.split()[-1])\n",
    "        if 'f' in line.lower():\n",
    "            start_x += val\n",
    "        elif 'd' in line.lower():\n",
    "            start_z += val\n",
    "        else:\n",
    "            start_z -= val\n",
    "    return start_x * start_z\n",
    "    \n",
    "assert get_pos(test, start_hor, start_depth) == 150\n",
    "get_pos(data, start_hor, start_depth) # 2027977 correct"
   ]
  },
  {
   "cell_type": "markdown",
   "metadata": {},
   "source": [
    "### Part 2"
   ]
  },
  {
   "cell_type": "code",
   "execution_count": 49,
   "metadata": {},
   "outputs": [
    {
     "data": {
      "text/plain": [
       "1903644897"
      ]
     },
     "execution_count": 49,
     "metadata": {},
     "output_type": "execute_result"
    }
   ],
   "source": [
    "def get_course(data, start_x=0, start_z=0, start_aim=0):\n",
    "    for line in data:\n",
    "        move, val_str = line.split()\n",
    "        move = move.lower()\n",
    "        val = int(val_str)\n",
    "        if move == 'down':\n",
    "            start_aim += val\n",
    "        elif move == 'up':\n",
    "            start_aim -= val\n",
    "        else:\n",
    "            start_x += val\n",
    "            start_z += start_aim * val\n",
    "    \n",
    "    return start_x * start_z\n",
    "\n",
    "assert get_course(test) == 900\n",
    "get_course(data) # 1903644897 correct"
   ]
  },
  {
   "cell_type": "markdown",
   "metadata": {},
   "source": [
    "## Day 2\n",
    "\n",
    "### Part 1"
   ]
  },
  {
   "cell_type": "code",
   "execution_count": null,
   "metadata": {},
   "outputs": [],
   "source": []
  }
 ],
 "metadata": {
  "kernelspec": {
   "display_name": "geocomp",
   "language": "python",
   "name": "geocomp"
  },
  "language_info": {
   "codemirror_mode": {
    "name": "ipython",
    "version": 3
   },
   "file_extension": ".py",
   "mimetype": "text/x-python",
   "name": "python",
   "nbconvert_exporter": "python",
   "pygments_lexer": "ipython3",
   "version": "3.9.7"
  }
 },
 "nbformat": 4,
 "nbformat_minor": 4
}
